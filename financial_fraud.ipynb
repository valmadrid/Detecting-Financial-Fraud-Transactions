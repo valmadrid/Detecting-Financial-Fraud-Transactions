{
 "cells": [
  {
   "cell_type": "code",
   "execution_count": 1,
   "metadata": {
    "colab": {
     "base_uri": "https://localhost:8080/",
     "height": 71
    },
    "colab_type": "code",
    "id": "j_4gNac27yao",
    "outputId": "24fd1b74-f467-465a-e406-1c9fef7cd006"
   },
   "outputs": [],
   "source": [
    "import warnings\n",
    "warnings.filterwarnings(\"ignore\", category=DeprecationWarning)\n",
    "\n",
    "import pandas as pd\n",
    "pd.set_option(\"display.max_columns\", None)\n",
    "pd.set_option(\"display.max_colwidth\", -1)\n",
    "pd.set_option('display.float_format', lambda x: '%.2f' % x)\n",
    "\n",
    "import numpy as np\n",
    "\n",
    "%matplotlib inline\n",
    "import seaborn as sns\n",
    "import matplotlib.pyplot as plt\n",
    "sns.set_style(\"white\")\n",
    "sns.set_context(\"paper\", font_scale=1.8)\n",
    "sns.set_palette(\"GnBu_d\")\n",
    "\n",
    "import pickle\n",
    "\n",
    "import math\n",
    "\n",
    "from tqdm import tqdm_notebook as tqdm"
   ]
  },
  {
   "cell_type": "markdown",
   "metadata": {},
   "source": [
    "# Dataset"
   ]
  },
  {
   "cell_type": "markdown",
   "metadata": {
    "colab_type": "text",
    "id": "uxbgRTlW7yar"
   },
   "source": [
    "The dataset consists of 6362620 rows and 11 columns. \n",
    "\n",
    "***step*** - maps a unit of time in the real world. In this case 1 step is 1 hour of time. Total steps 744 (30 days simulation).\n",
    "\n",
    "***type*** - CASH-IN, CASH-OUT, DEBIT, PAYMENT and TRANSFER.\n",
    "\n",
    "***amount*** - amount of the transaction in local currency (assume $).\n",
    "\n",
    "***nameOrig*** - customer who started the transaction\n",
    "\n",
    "***oldbalanceOrg*** - initial balance before the transaction\n",
    "\n",
    "***newbalanceOrig*** - new balance after the transaction\n",
    "\n",
    "***nameDest*** - customer who is the recipient of the transaction\n",
    "\n",
    "***oldbalanceDest*** - initial balance recipient before the transaction. Note that there is not information for customers that start with M (Merchants).\n",
    "\n",
    "***newbalanceDest*** - new balance recipient after the transaction. Note that there is not information for customers that start with M (Merchants).\n",
    "\n",
    "***isFraud*** - (TARGET) This is the transactions made by the fraudulent agents inside the simulation. In this specific dataset the fraudulent behavior of the agents aims to profit by taking control or customers accounts and try to empty the funds by transferring to another account and then cashing out of the system.\n",
    "\n",
    "***isFlaggedFraud*** - The business model aims to control massive transfers from one account to another and flags illegal attempts. An illegal attempt in this dataset is an attempt to transfer more than $200,000 in a single transaction."
   ]
  },
  {
   "cell_type": "code",
   "execution_count": 339,
   "metadata": {
    "colab": {},
    "colab_type": "code",
    "id": "BOa0hlvt7yas"
   },
   "outputs": [],
   "source": [
    "df = pd.read_csv(\"PS_20174392719_1491204439457_log.csv\") "
   ]
  },
  {
   "cell_type": "code",
   "execution_count": 340,
   "metadata": {
    "colab": {
     "base_uri": "https://localhost:8080/",
     "height": 204
    },
    "colab_type": "code",
    "id": "PK4uuqfK7yav",
    "outputId": "2041dc11-745d-4bfc-fec2-88c76051d439",
    "scrolled": false
   },
   "outputs": [
    {
     "data": {
      "text/html": [
       "<div>\n",
       "<style scoped>\n",
       "    .dataframe tbody tr th:only-of-type {\n",
       "        vertical-align: middle;\n",
       "    }\n",
       "\n",
       "    .dataframe tbody tr th {\n",
       "        vertical-align: top;\n",
       "    }\n",
       "\n",
       "    .dataframe thead th {\n",
       "        text-align: right;\n",
       "    }\n",
       "</style>\n",
       "<table border=\"1\" class=\"dataframe\">\n",
       "  <thead>\n",
       "    <tr style=\"text-align: right;\">\n",
       "      <th></th>\n",
       "      <th>step</th>\n",
       "      <th>type</th>\n",
       "      <th>amount</th>\n",
       "      <th>nameOrig</th>\n",
       "      <th>oldbalanceOrg</th>\n",
       "      <th>newbalanceOrig</th>\n",
       "      <th>nameDest</th>\n",
       "      <th>oldbalanceDest</th>\n",
       "      <th>newbalanceDest</th>\n",
       "      <th>isFraud</th>\n",
       "      <th>isFlaggedFraud</th>\n",
       "    </tr>\n",
       "  </thead>\n",
       "  <tbody>\n",
       "    <tr>\n",
       "      <td>0</td>\n",
       "      <td>1</td>\n",
       "      <td>PAYMENT</td>\n",
       "      <td>9839.64</td>\n",
       "      <td>C1231006815</td>\n",
       "      <td>170136.00</td>\n",
       "      <td>160296.36</td>\n",
       "      <td>M1979787155</td>\n",
       "      <td>0.00</td>\n",
       "      <td>0.00</td>\n",
       "      <td>0</td>\n",
       "      <td>0</td>\n",
       "    </tr>\n",
       "    <tr>\n",
       "      <td>1</td>\n",
       "      <td>1</td>\n",
       "      <td>PAYMENT</td>\n",
       "      <td>1864.28</td>\n",
       "      <td>C1666544295</td>\n",
       "      <td>21249.00</td>\n",
       "      <td>19384.72</td>\n",
       "      <td>M2044282225</td>\n",
       "      <td>0.00</td>\n",
       "      <td>0.00</td>\n",
       "      <td>0</td>\n",
       "      <td>0</td>\n",
       "    </tr>\n",
       "    <tr>\n",
       "      <td>2</td>\n",
       "      <td>1</td>\n",
       "      <td>TRANSFER</td>\n",
       "      <td>181.00</td>\n",
       "      <td>C1305486145</td>\n",
       "      <td>181.00</td>\n",
       "      <td>0.00</td>\n",
       "      <td>C553264065</td>\n",
       "      <td>0.00</td>\n",
       "      <td>0.00</td>\n",
       "      <td>1</td>\n",
       "      <td>0</td>\n",
       "    </tr>\n",
       "    <tr>\n",
       "      <td>3</td>\n",
       "      <td>1</td>\n",
       "      <td>CASH_OUT</td>\n",
       "      <td>181.00</td>\n",
       "      <td>C840083671</td>\n",
       "      <td>181.00</td>\n",
       "      <td>0.00</td>\n",
       "      <td>C38997010</td>\n",
       "      <td>21182.00</td>\n",
       "      <td>0.00</td>\n",
       "      <td>1</td>\n",
       "      <td>0</td>\n",
       "    </tr>\n",
       "    <tr>\n",
       "      <td>4</td>\n",
       "      <td>1</td>\n",
       "      <td>PAYMENT</td>\n",
       "      <td>11668.14</td>\n",
       "      <td>C2048537720</td>\n",
       "      <td>41554.00</td>\n",
       "      <td>29885.86</td>\n",
       "      <td>M1230701703</td>\n",
       "      <td>0.00</td>\n",
       "      <td>0.00</td>\n",
       "      <td>0</td>\n",
       "      <td>0</td>\n",
       "    </tr>\n",
       "  </tbody>\n",
       "</table>\n",
       "</div>"
      ],
      "text/plain": [
       "   step      type   amount     nameOrig  oldbalanceOrg  newbalanceOrig  \\\n",
       "0  1     PAYMENT  9839.64   C1231006815 170136.00      160296.36         \n",
       "1  1     PAYMENT  1864.28   C1666544295 21249.00       19384.72          \n",
       "2  1     TRANSFER 181.00    C1305486145 181.00         0.00              \n",
       "3  1     CASH_OUT 181.00    C840083671  181.00         0.00              \n",
       "4  1     PAYMENT  11668.14  C2048537720 41554.00       29885.86          \n",
       "\n",
       "      nameDest  oldbalanceDest  newbalanceDest  isFraud  isFlaggedFraud  \n",
       "0  M1979787155 0.00            0.00             0        0               \n",
       "1  M2044282225 0.00            0.00             0        0               \n",
       "2  C553264065  0.00            0.00             1        0               \n",
       "3  C38997010   21182.00        0.00             1        0               \n",
       "4  M1230701703 0.00            0.00             0        0               "
      ]
     },
     "execution_count": 340,
     "metadata": {},
     "output_type": "execute_result"
    }
   ],
   "source": [
    "df.head()"
   ]
  },
  {
   "cell_type": "code",
   "execution_count": 341,
   "metadata": {
    "colab": {},
    "colab_type": "code",
    "id": "frSOITGP7yaz",
    "scrolled": true
   },
   "outputs": [
    {
     "data": {
      "text/html": [
       "<div>\n",
       "<style scoped>\n",
       "    .dataframe tbody tr th:only-of-type {\n",
       "        vertical-align: middle;\n",
       "    }\n",
       "\n",
       "    .dataframe tbody tr th {\n",
       "        vertical-align: top;\n",
       "    }\n",
       "\n",
       "    .dataframe thead th {\n",
       "        text-align: right;\n",
       "    }\n",
       "</style>\n",
       "<table border=\"1\" class=\"dataframe\">\n",
       "  <thead>\n",
       "    <tr style=\"text-align: right;\">\n",
       "      <th></th>\n",
       "      <th>step</th>\n",
       "      <th>type</th>\n",
       "      <th>amount</th>\n",
       "      <th>customer</th>\n",
       "      <th>customer_old_balance</th>\n",
       "      <th>customer_new_balance</th>\n",
       "      <th>recipient</th>\n",
       "      <th>recipient_old_balance</th>\n",
       "      <th>recipient_new_balance</th>\n",
       "      <th>is_fraud</th>\n",
       "      <th>is_flagged_fraud</th>\n",
       "    </tr>\n",
       "  </thead>\n",
       "  <tbody>\n",
       "    <tr>\n",
       "      <td>0</td>\n",
       "      <td>1</td>\n",
       "      <td>PAYMENT</td>\n",
       "      <td>9839.64</td>\n",
       "      <td>C1231006815</td>\n",
       "      <td>170136.00</td>\n",
       "      <td>160296.36</td>\n",
       "      <td>M1979787155</td>\n",
       "      <td>0.00</td>\n",
       "      <td>0.00</td>\n",
       "      <td>0</td>\n",
       "      <td>0</td>\n",
       "    </tr>\n",
       "    <tr>\n",
       "      <td>1</td>\n",
       "      <td>1</td>\n",
       "      <td>PAYMENT</td>\n",
       "      <td>1864.28</td>\n",
       "      <td>C1666544295</td>\n",
       "      <td>21249.00</td>\n",
       "      <td>19384.72</td>\n",
       "      <td>M2044282225</td>\n",
       "      <td>0.00</td>\n",
       "      <td>0.00</td>\n",
       "      <td>0</td>\n",
       "      <td>0</td>\n",
       "    </tr>\n",
       "    <tr>\n",
       "      <td>2</td>\n",
       "      <td>1</td>\n",
       "      <td>TRANSFER</td>\n",
       "      <td>181.00</td>\n",
       "      <td>C1305486145</td>\n",
       "      <td>181.00</td>\n",
       "      <td>0.00</td>\n",
       "      <td>C553264065</td>\n",
       "      <td>0.00</td>\n",
       "      <td>0.00</td>\n",
       "      <td>1</td>\n",
       "      <td>0</td>\n",
       "    </tr>\n",
       "    <tr>\n",
       "      <td>3</td>\n",
       "      <td>1</td>\n",
       "      <td>CASH_OUT</td>\n",
       "      <td>181.00</td>\n",
       "      <td>C840083671</td>\n",
       "      <td>181.00</td>\n",
       "      <td>0.00</td>\n",
       "      <td>C38997010</td>\n",
       "      <td>21182.00</td>\n",
       "      <td>0.00</td>\n",
       "      <td>1</td>\n",
       "      <td>0</td>\n",
       "    </tr>\n",
       "    <tr>\n",
       "      <td>4</td>\n",
       "      <td>1</td>\n",
       "      <td>PAYMENT</td>\n",
       "      <td>11668.14</td>\n",
       "      <td>C2048537720</td>\n",
       "      <td>41554.00</td>\n",
       "      <td>29885.86</td>\n",
       "      <td>M1230701703</td>\n",
       "      <td>0.00</td>\n",
       "      <td>0.00</td>\n",
       "      <td>0</td>\n",
       "      <td>0</td>\n",
       "    </tr>\n",
       "  </tbody>\n",
       "</table>\n",
       "</div>"
      ],
      "text/plain": [
       "   step      type   amount     customer  customer_old_balance  \\\n",
       "0  1     PAYMENT  9839.64   C1231006815 170136.00               \n",
       "1  1     PAYMENT  1864.28   C1666544295 21249.00                \n",
       "2  1     TRANSFER 181.00    C1305486145 181.00                  \n",
       "3  1     CASH_OUT 181.00    C840083671  181.00                  \n",
       "4  1     PAYMENT  11668.14  C2048537720 41554.00                \n",
       "\n",
       "   customer_new_balance    recipient  recipient_old_balance  \\\n",
       "0 160296.36              M1979787155 0.00                     \n",
       "1 19384.72               M2044282225 0.00                     \n",
       "2 0.00                   C553264065  0.00                     \n",
       "3 0.00                   C38997010   21182.00                 \n",
       "4 29885.86               M1230701703 0.00                     \n",
       "\n",
       "   recipient_new_balance  is_fraud  is_flagged_fraud  \n",
       "0 0.00                    0         0                 \n",
       "1 0.00                    0         0                 \n",
       "2 0.00                    1         0                 \n",
       "3 0.00                    1         0                 \n",
       "4 0.00                    0         0                 "
      ]
     },
     "execution_count": 341,
     "metadata": {},
     "output_type": "execute_result"
    }
   ],
   "source": [
    "df.rename(mapper={\n",
    "    \"nameOrig\": \"customer\",\n",
    "    \"oldbalanceOrg\": \"customer_old_balance\",\n",
    "    \"newbalanceOrig\": \"customer_new_balance\",\n",
    "    \"nameDest\": \"recipient\",\n",
    "    \"oldbalanceDest\": \"recipient_old_balance\",\n",
    "    \"newbalanceDest\": \"recipient_new_balance\",\n",
    "    \"isFraud\": \"is_fraud\",\n",
    "    \"isFlaggedFraud\": \"is_flagged_fraud\"\n",
    "},\n",
    "          axis=1,\n",
    "          inplace=True)\n",
    "\n",
    "df.head()"
   ]
  },
  {
   "cell_type": "markdown",
   "metadata": {},
   "source": [
    "There are no null values:"
   ]
  },
  {
   "cell_type": "code",
   "execution_count": 342,
   "metadata": {
    "colab": {
     "base_uri": "https://localhost:8080/",
     "height": 323
    },
    "colab_type": "code",
    "id": "3eSS1vfK7yax",
    "outputId": "456dc64d-8315-40b8-90b2-141fe3917829"
   },
   "outputs": [
    {
     "name": "stdout",
     "output_type": "stream",
     "text": [
      "<class 'pandas.core.frame.DataFrame'>\n",
      "RangeIndex: 6362620 entries, 0 to 6362619\n",
      "Data columns (total 11 columns):\n",
      "step                     6362620 non-null int64\n",
      "type                     6362620 non-null object\n",
      "amount                   6362620 non-null float64\n",
      "customer                 6362620 non-null object\n",
      "customer_old_balance     6362620 non-null float64\n",
      "customer_new_balance     6362620 non-null float64\n",
      "recipient                6362620 non-null object\n",
      "recipient_old_balance    6362620 non-null float64\n",
      "recipient_new_balance    6362620 non-null float64\n",
      "is_fraud                 6362620 non-null int64\n",
      "is_flagged_fraud         6362620 non-null int64\n",
      "dtypes: float64(5), int64(3), object(3)\n",
      "memory usage: 534.0+ MB\n"
     ]
    }
   ],
   "source": [
    "df.info(null_counts=True)"
   ]
  },
  {
   "cell_type": "code",
   "execution_count": 36,
   "metadata": {},
   "outputs": [],
   "source": [
    "# pickle.dump(df, open(\"df.pkl\", \"wb\"))"
   ]
  },
  {
   "cell_type": "code",
   "execution_count": 430,
   "metadata": {},
   "outputs": [],
   "source": [
    "df = pickle.load(open(\"df.pkl\", \"rb\"))"
   ]
  },
  {
   "cell_type": "markdown",
   "metadata": {},
   "source": [
    "What are these \\\\$0 amount transactions? Also customer_old_balance and recipient_new_balance columns have \\\\$0 amounts."
   ]
  },
  {
   "cell_type": "code",
   "execution_count": 343,
   "metadata": {
    "colab": {
     "base_uri": "https://localhost:8080/",
     "height": 390
    },
    "colab_type": "code",
    "id": "2w0j0GI47ya1",
    "outputId": "c0c1995a-0e31-4dd0-823b-f9bebac4ea60",
    "scrolled": true
   },
   "outputs": [
    {
     "data": {
      "text/html": [
       "<div>\n",
       "<style scoped>\n",
       "    .dataframe tbody tr th:only-of-type {\n",
       "        vertical-align: middle;\n",
       "    }\n",
       "\n",
       "    .dataframe tbody tr th {\n",
       "        vertical-align: top;\n",
       "    }\n",
       "\n",
       "    .dataframe thead th {\n",
       "        text-align: right;\n",
       "    }\n",
       "</style>\n",
       "<table border=\"1\" class=\"dataframe\">\n",
       "  <thead>\n",
       "    <tr style=\"text-align: right;\">\n",
       "      <th></th>\n",
       "      <th>count</th>\n",
       "      <th>unique</th>\n",
       "      <th>top</th>\n",
       "      <th>freq</th>\n",
       "      <th>mean</th>\n",
       "      <th>std</th>\n",
       "      <th>min</th>\n",
       "      <th>25%</th>\n",
       "      <th>50%</th>\n",
       "      <th>75%</th>\n",
       "      <th>max</th>\n",
       "    </tr>\n",
       "  </thead>\n",
       "  <tbody>\n",
       "    <tr>\n",
       "      <td>step</td>\n",
       "      <td>6362620.00</td>\n",
       "      <td>NaN</td>\n",
       "      <td>NaN</td>\n",
       "      <td>NaN</td>\n",
       "      <td>243.40</td>\n",
       "      <td>142.33</td>\n",
       "      <td>1.00</td>\n",
       "      <td>156.00</td>\n",
       "      <td>239.00</td>\n",
       "      <td>335.00</td>\n",
       "      <td>743.00</td>\n",
       "    </tr>\n",
       "    <tr>\n",
       "      <td>type</td>\n",
       "      <td>6362620</td>\n",
       "      <td>5</td>\n",
       "      <td>CASH_OUT</td>\n",
       "      <td>2237500</td>\n",
       "      <td>NaN</td>\n",
       "      <td>NaN</td>\n",
       "      <td>NaN</td>\n",
       "      <td>NaN</td>\n",
       "      <td>NaN</td>\n",
       "      <td>NaN</td>\n",
       "      <td>NaN</td>\n",
       "    </tr>\n",
       "    <tr>\n",
       "      <td>amount</td>\n",
       "      <td>6362620.00</td>\n",
       "      <td>NaN</td>\n",
       "      <td>NaN</td>\n",
       "      <td>NaN</td>\n",
       "      <td>179861.90</td>\n",
       "      <td>603858.23</td>\n",
       "      <td>0.00</td>\n",
       "      <td>13389.57</td>\n",
       "      <td>74871.94</td>\n",
       "      <td>208721.48</td>\n",
       "      <td>92445516.64</td>\n",
       "    </tr>\n",
       "    <tr>\n",
       "      <td>customer</td>\n",
       "      <td>6362620</td>\n",
       "      <td>6353307</td>\n",
       "      <td>C1784010646</td>\n",
       "      <td>3</td>\n",
       "      <td>NaN</td>\n",
       "      <td>NaN</td>\n",
       "      <td>NaN</td>\n",
       "      <td>NaN</td>\n",
       "      <td>NaN</td>\n",
       "      <td>NaN</td>\n",
       "      <td>NaN</td>\n",
       "    </tr>\n",
       "    <tr>\n",
       "      <td>customer_old_balance</td>\n",
       "      <td>6362620.00</td>\n",
       "      <td>NaN</td>\n",
       "      <td>NaN</td>\n",
       "      <td>NaN</td>\n",
       "      <td>833883.10</td>\n",
       "      <td>2888242.67</td>\n",
       "      <td>0.00</td>\n",
       "      <td>0.00</td>\n",
       "      <td>14208.00</td>\n",
       "      <td>107315.18</td>\n",
       "      <td>59585040.37</td>\n",
       "    </tr>\n",
       "    <tr>\n",
       "      <td>customer_new_balance</td>\n",
       "      <td>6362620.00</td>\n",
       "      <td>NaN</td>\n",
       "      <td>NaN</td>\n",
       "      <td>NaN</td>\n",
       "      <td>855113.67</td>\n",
       "      <td>2924048.50</td>\n",
       "      <td>0.00</td>\n",
       "      <td>0.00</td>\n",
       "      <td>0.00</td>\n",
       "      <td>144258.41</td>\n",
       "      <td>49585040.37</td>\n",
       "    </tr>\n",
       "    <tr>\n",
       "      <td>recipient</td>\n",
       "      <td>6362620</td>\n",
       "      <td>2722362</td>\n",
       "      <td>C1286084959</td>\n",
       "      <td>113</td>\n",
       "      <td>NaN</td>\n",
       "      <td>NaN</td>\n",
       "      <td>NaN</td>\n",
       "      <td>NaN</td>\n",
       "      <td>NaN</td>\n",
       "      <td>NaN</td>\n",
       "      <td>NaN</td>\n",
       "    </tr>\n",
       "    <tr>\n",
       "      <td>recipient_old_balance</td>\n",
       "      <td>6362620.00</td>\n",
       "      <td>NaN</td>\n",
       "      <td>NaN</td>\n",
       "      <td>NaN</td>\n",
       "      <td>1100701.67</td>\n",
       "      <td>3399180.11</td>\n",
       "      <td>0.00</td>\n",
       "      <td>0.00</td>\n",
       "      <td>132705.66</td>\n",
       "      <td>943036.71</td>\n",
       "      <td>356015889.35</td>\n",
       "    </tr>\n",
       "    <tr>\n",
       "      <td>recipient_new_balance</td>\n",
       "      <td>6362620.00</td>\n",
       "      <td>NaN</td>\n",
       "      <td>NaN</td>\n",
       "      <td>NaN</td>\n",
       "      <td>1224996.40</td>\n",
       "      <td>3674128.94</td>\n",
       "      <td>0.00</td>\n",
       "      <td>0.00</td>\n",
       "      <td>214661.44</td>\n",
       "      <td>1111909.25</td>\n",
       "      <td>356179278.92</td>\n",
       "    </tr>\n",
       "    <tr>\n",
       "      <td>is_fraud</td>\n",
       "      <td>6362620.00</td>\n",
       "      <td>NaN</td>\n",
       "      <td>NaN</td>\n",
       "      <td>NaN</td>\n",
       "      <td>0.00</td>\n",
       "      <td>0.04</td>\n",
       "      <td>0.00</td>\n",
       "      <td>0.00</td>\n",
       "      <td>0.00</td>\n",
       "      <td>0.00</td>\n",
       "      <td>1.00</td>\n",
       "    </tr>\n",
       "    <tr>\n",
       "      <td>is_flagged_fraud</td>\n",
       "      <td>6362620.00</td>\n",
       "      <td>NaN</td>\n",
       "      <td>NaN</td>\n",
       "      <td>NaN</td>\n",
       "      <td>0.00</td>\n",
       "      <td>0.00</td>\n",
       "      <td>0.00</td>\n",
       "      <td>0.00</td>\n",
       "      <td>0.00</td>\n",
       "      <td>0.00</td>\n",
       "      <td>1.00</td>\n",
       "    </tr>\n",
       "  </tbody>\n",
       "</table>\n",
       "</div>"
      ],
      "text/plain": [
       "                           count   unique          top     freq       mean  \\\n",
       "step                  6362620.00  NaN      NaN          NaN     243.40       \n",
       "type                   6362620    5        CASH_OUT     2237500  NaN         \n",
       "amount                6362620.00  NaN      NaN          NaN     179861.90    \n",
       "customer               6362620    6353307  C1784010646  3        NaN         \n",
       "customer_old_balance  6362620.00  NaN      NaN          NaN     833883.10    \n",
       "customer_new_balance  6362620.00  NaN      NaN          NaN     855113.67    \n",
       "recipient              6362620    2722362  C1286084959  113      NaN         \n",
       "recipient_old_balance 6362620.00  NaN      NaN          NaN     1100701.67   \n",
       "recipient_new_balance 6362620.00  NaN      NaN          NaN     1224996.40   \n",
       "is_fraud              6362620.00  NaN      NaN          NaN     0.00         \n",
       "is_flagged_fraud      6362620.00  NaN      NaN          NaN     0.00         \n",
       "\n",
       "                             std  min      25%       50%        75%  \\\n",
       "step                  142.33     1.00 156.00   239.00    335.00       \n",
       "type                   NaN        NaN  NaN      NaN       NaN         \n",
       "amount                603858.23  0.00 13389.57 74871.94  208721.48    \n",
       "customer               NaN        NaN  NaN      NaN       NaN         \n",
       "customer_old_balance  2888242.67 0.00 0.00     14208.00  107315.18    \n",
       "customer_new_balance  2924048.50 0.00 0.00     0.00      144258.41    \n",
       "recipient              NaN        NaN  NaN      NaN       NaN         \n",
       "recipient_old_balance 3399180.11 0.00 0.00     132705.66 943036.71    \n",
       "recipient_new_balance 3674128.94 0.00 0.00     214661.44 1111909.25   \n",
       "is_fraud              0.04       0.00 0.00     0.00      0.00         \n",
       "is_flagged_fraud      0.00       0.00 0.00     0.00      0.00         \n",
       "\n",
       "                               max  \n",
       "step                  743.00        \n",
       "type                   NaN          \n",
       "amount                92445516.64   \n",
       "customer               NaN          \n",
       "customer_old_balance  59585040.37   \n",
       "customer_new_balance  49585040.37   \n",
       "recipient              NaN          \n",
       "recipient_old_balance 356015889.35  \n",
       "recipient_new_balance 356179278.92  \n",
       "is_fraud              1.00          \n",
       "is_flagged_fraud      1.00          "
      ]
     },
     "execution_count": 343,
     "metadata": {},
     "output_type": "execute_result"
    }
   ],
   "source": [
    "df.describe(include=\"all\").T"
   ]
  },
  {
   "cell_type": "markdown",
   "metadata": {},
   "source": [
    "The numerical features have very low correlation to is_fraud.  We will need to do some feature engineering before we build the model."
   ]
  },
  {
   "cell_type": "code",
   "execution_count": 364,
   "metadata": {
    "colab": {
     "base_uri": "https://localhost:8080/",
     "height": 640
    },
    "colab_type": "code",
    "id": "lpET57erPTrZ",
    "outputId": "6ef8338b-a320-4d1d-b014-9659248f8355",
    "scrolled": false
   },
   "outputs": [
    {
     "data": {
      "image/png": "[encoded data removed]",
      "text/plain": [
       "<Figure size 1080x720 with 1 Axes>"
      ]
     },
     "metadata": {
      "needs_background": "light"
     },
     "output_type": "display_data"
    }
   ],
   "source": [
    "corr_table = df.corr()[[\"is_fraud\"]].sort_values(\"is_fraud\", ascending=False).iloc[1:,:].reset_index()\n",
    "plt.figure(figsize=(15,10))\n",
    "sns.barplot(x=\"is_fraud\", y=\"index\", data=corr_table, palette=\"hsv\")\n",
    "plt.xlabel(\"correlation\")\n",
    "plt.ylabel(\"features\")\n",
    "plt.title(\"Correlation Coefficients\")\n",
    "plt.show()"
   ]
  },
  {
   "cell_type": "markdown",
   "metadata": {},
   "source": [
    "# Exploratory Data Analysis"
   ]
  },
  {
   "cell_type": "markdown",
   "metadata": {},
   "source": [
    "## Target: is_fraud\n",
    "\n",
    "1: fraud\n",
    "0: not fraud"
   ]
  },
  {
   "cell_type": "code",
   "execution_count": 450,
   "metadata": {},
   "outputs": [
    {
     "data": {
      "image/png": "[encoded data removed]",
      "text/plain": [
       "<Figure size 576x504 with 1 Axes>"
      ]
     },
     "metadata": {
      "needs_background": "light"
     },
     "output_type": "display_data"
    }
   ],
   "source": [
    "temp = df.groupby([\"is_fraud\"]).count().reset_index()\n",
    "fig = plt.figure(figsize=(8, 7))\n",
    "graph = plt.bar(temp.is_fraud, temp.step, color=\"blue\", alpha=0.7)\n",
    "plt.title(\"Class Imbalance\", fontsize=20)\n",
    "plt.ylabel(\"transaction count\")\n",
    "plt.yticks(range(0, 8000000, 1000000))\n",
    "plt.xticks([0, 1], [\"0: Non-Fraud\", \"1: Fraud\"])\n",
    "for bar, x in zip(graph, temp.step.values):\n",
    "    plt.text(bar.get_x() + bar.get_width() / 2.0,\n",
    "             bar.get_height() + 100000,\n",
    "             \"{} ({}%)\".format(x, round(x / len(df) * 100, 2)),\n",
    "             fontsize=20,\n",
    "             ha=\"center\",\n",
    "             va=\"bottom\")\n",
    "plt.show()\n",
    "del temp"
   ]
  },
  {
   "cell_type": "code",
   "execution_count": 50,
   "metadata": {
    "colab": {
     "base_uri": "https://localhost:8080/",
     "height": 1000
    },
    "colab_type": "code",
    "id": "GTUkg4Fi7ya6",
    "outputId": "ed58d45d-8b51-4ec5-e938-e3195b8ec66f",
    "scrolled": false
   },
   "outputs": [],
   "source": [
    "# cols = [\n",
    "#     \"amount\", \"customer_old_balance\", \"customer_new_balance\",\n",
    "#     \"recipient_old_balance\", \"recipient_new_balance\"\n",
    "# ]\n",
    "\n",
    "# r = math.ceil(len(cols)/2)\n",
    "\n",
    "# for key, val in dict(\n",
    "#         zip([1, 0],\n",
    "#             [\"Fradulent Transactions\", \"Non-Fradulent Transactions\"])).items():\n",
    "#     fig = plt.figure(figsize=(25, 7*r))\n",
    "#     for i, col in enumerate(cols):\n",
    "#         ax = fig.add_subplot(r, 2, i + 1)\n",
    "#         sns.distplot(df.query(\"is_fraud == @key\")[col])\n",
    "#         plt.xlabel(None)\n",
    "#         plt.title(col, fontsize=20, color=\"black\")\n",
    "#     plt.suptitle(val, fontsize=27, y=0.93, color=\"black\")\n",
    "#     plt.show()"
   ]
  },
  {
   "cell_type": "code",
   "execution_count": 49,
   "metadata": {
    "scrolled": false
   },
   "outputs": [],
   "source": [
    "# normalised = []\n",
    "# for col in cols:\n",
    "#     df[col+\"_log\"] = df[col].map(lambda x: np.log10(x+1))\n",
    "#     normalised.append(col+\"_log\")\n",
    "\n",
    "# r = math.ceil(len(cols)/2)\n",
    "\n",
    "# for key, val in dict(\n",
    "#         zip([1, 0],\n",
    "#             [\"Fradulent Transactions\", \"Non-Fradulent Transactions\"])).items():\n",
    "#     fig = plt.figure(figsize=(25, 7*r))\n",
    "#     for i, col in enumerate(normalised):\n",
    "#         ax = fig.add_subplot(r, 2, i + 1)\n",
    "#         sns.distplot(df.query(\"is_fraud == @key\")[col])\n",
    "#         plt.xlabel(None)\n",
    "#         plt.title(col, fontsize=20, color=\"black\")\n",
    "#     plt.suptitle(val, fontsize=27, y=0.93, color=\"black\")\n",
    "#     plt.show()"
   ]
  },
  {
   "cell_type": "markdown",
   "metadata": {},
   "source": [
    "## step\n"
   ]
  },
  {
   "cell_type": "markdown",
   "metadata": {},
   "source": [
    "Most of the transactions happened from 0 to 400. "
   ]
  },
  {
   "cell_type": "code",
   "execution_count": 435,
   "metadata": {
    "colab": {
     "base_uri": "https://localhost:8080/",
     "height": 457
    },
    "colab_type": "code",
    "id": "8HOvzVFyUvmq",
    "outputId": "5e7fa360-dc57-4b2c-c24a-710ab261ad72"
   },
   "outputs": [
    {
     "data": {
      "image/png": "[encoded data removed]",
      "text/plain": [
       "<Figure size 1440x504 with 1 Axes>"
      ]
     },
     "metadata": {
      "needs_background": "light"
     },
     "output_type": "display_data"
    }
   ],
   "source": [
    "temp = df.groupby([\"step\"]).count().reset_index()\n",
    "plt.figure(figsize=(20, 7))\n",
    "sns.lineplot(x=\"step\", y=\"amount\", data=temp, color=\"blue\")\n",
    "plt.xlabel(\"step (time)\")\n",
    "plt.ylabel(\"transaction count\")\n",
    "# plt.annotate(\"{} transactions\".format(df.step.value_counts().values[0]),\n",
    "#              xy=(df.step.value_counts().index[0],\n",
    "#                  df.step.value_counts().values[0]),\n",
    "#              arrowprops=dict(arrowstyle=\"->\", color=\"red\"),\n",
    "#              xytext=(df.step.value_counts().index[0] + 30,\n",
    "#                      df.step.value_counts().values[0] + 100),\n",
    "#              fontsize=15,\n",
    "#              color=\"red\")\n",
    "plt.yticks(range(0, 70000, 10000))\n",
    "plt.show()\n",
    "del temp"
   ]
  },
  {
   "cell_type": "code",
   "execution_count": 51,
   "metadata": {},
   "outputs": [],
   "source": [
    "# plt.figure(figsize=(20, 7))\n",
    "# sns.lineplot(x=\"step\",\n",
    "#              y=\"amount\",\n",
    "#              hue=\"is_fraud\",\n",
    "#              data=df.groupby([\"step\", \"is_fraud\"]).count().reset_index(),\n",
    "#              palette=\"Set2\")\n",
    "# plt.xlabel(\"step\")\n",
    "# plt.ylabel(\"transaction count\")\n",
    "# plt.show()"
   ]
  },
  {
   "cell_type": "markdown",
   "metadata": {},
   "source": [
    "## type\n"
   ]
  },
  {
   "cell_type": "markdown",
   "metadata": {},
   "source": [
    "Most common types are CASH_OUT, PAYMENT and CASH_IN which comprises 91% of the dataset.  Fraudulent transactions are only found in CASH_OUT and TRANSFER transactions. (Should we just use CASH and TRANSFER type transactions in building our model?)"
   ]
  },
  {
   "cell_type": "code",
   "execution_count": 446,
   "metadata": {},
   "outputs": [
    {
     "data": {
      "image/png": "[encoded data removed]",
      "text/plain": [
       "<Figure size 864x432 with 1 Axes>"
      ]
     },
     "metadata": {
      "needs_background": "light"
     },
     "output_type": "display_data"
    }
   ],
   "source": [
    "temp = df.groupby([\"type\"]).count().reset_index().sort_values(\"step\")\n",
    "fig = plt.figure(figsize=(12, 6))\n",
    "graph = plt.barh(temp.type, temp.step, color=\"blue\", alpha=0.7)\n",
    "plt.title(\"Transaction Type\", fontsize=20)\n",
    "plt.xlabel(\"transaction count\")\n",
    "plt.xticks(range(0, 3500000, 500000))\n",
    "for bar, x in zip(graph, temp.step.values):\n",
    "    plt.text(bar.get_width() + 50000,\n",
    "             bar.get_y() + bar.get_height() / 2,\n",
    "             \"{} ({}%)\".format(x, round(x / len(df) * 100, 2)),\n",
    "             fontsize=15,\n",
    "             ha=\"left\")\n",
    "plt.show()\n",
    "del temp"
   ]
  },
  {
   "cell_type": "code",
   "execution_count": 451,
   "metadata": {
    "colab": {
     "base_uri": "https://localhost:8080/",
     "height": 289
    },
    "colab_type": "code",
    "id": "6sbxfups7ya-",
    "outputId": "7fc926eb-415c-449a-d72d-9a606dd3d204",
    "scrolled": false
   },
   "outputs": [
    {
     "data": {
      "image/png": "[encoded data removed]",
      "text/plain": [
       "<Figure size 576x432 with 1 Axes>"
      ]
     },
     "metadata": {
      "needs_background": "light"
     },
     "output_type": "display_data"
    }
   ],
   "source": [
    "temp = df[df.is_fraud == 1].groupby(\n",
    "    [\"type\"]).count().reset_index().sort_values(\"step\", ascending=False)\n",
    "fig = plt.figure(figsize=(8, 6))\n",
    "graph = plt.bar(temp.type, temp.step, color=\"red\", alpha=0.7)\n",
    "plt.title(\"Fraud Transactions\", fontsize=20)\n",
    "plt.xlabel(\"transaction type\")\n",
    "plt.ylabel(\"transaction count\")\n",
    "plt.yticks(range(0, 6000, 1000))\n",
    "for bar, x in zip(graph, temp.step.values):\n",
    "    plt.text(bar.get_x() + bar.get_width() / 2,\n",
    "             bar.get_height() + 100,\n",
    "             \"{} ({}%)\".format(x, round(x / len(df[df.is_fraud == 1]) * 100,\n",
    "                                        2)),\n",
    "             fontsize=20,\n",
    "             ha=\"center\",\n",
    "             va=\"bottom\")\n",
    "plt.show()\n",
    "del temp"
   ]
  },
  {
   "cell_type": "markdown",
   "metadata": {},
   "source": [
    "Are these fraudulent TRANSFER and CASH_OUT transactions related - money was transferred first then withdrawn?"
   ]
  },
  {
   "cell_type": "markdown",
   "metadata": {},
   "source": [
    "Below, we sorted the table by amount and step then plotted the first 100 non-zero transactions. \n",
    "\n",
    "It seems that the fraud transfers and cash outs are related."
   ]
  },
  {
   "cell_type": "code",
   "execution_count": 506,
   "metadata": {},
   "outputs": [
    {
     "data": {
      "image/png": "[encoded data removed]",
      "text/plain": [
       "<Figure size 1440x504 with 1 Axes>"
      ]
     },
     "metadata": {
      "needs_background": "light"
     },
     "output_type": "display_data"
    }
   ],
   "source": [
    "temp = df[(df.is_fraud == 1) & (df.amount !=0)].sort_values([\"amount\", \"step\"]).head(100)\n",
    "plt.figure(figsize=(20, 7))\n",
    "sns.scatterplot(x=\"step\", y=\"amount\", data=temp[temp.type==\"TRANSFER\"], color=\"blue\", marker=\"o\", s=400)\n",
    "sns.scatterplot(x=\"step\", y=\"amount\", data=temp[temp.type==\"CASH_OUT\"], color=\"red\", marker=\"X\", s=200)\n",
    "plt.xlabel(\"step (time)\")\n",
    "plt.ylabel(\"amount\")\n",
    "plt.show()\n",
    "del temp"
   ]
  },
  {
   "cell_type": "markdown",
   "metadata": {},
   "source": [
    "However, looking at the below table, the IDs are not related i.e. the recipient ID of the TRANSFER is not the customer ID of CASH_OUT."
   ]
  },
  {
   "cell_type": "code",
   "execution_count": 491,
   "metadata": {
    "scrolled": true
   },
   "outputs": [
    {
     "data": {
      "text/html": [
       "<div>\n",
       "<style scoped>\n",
       "    .dataframe tbody tr th:only-of-type {\n",
       "        vertical-align: middle;\n",
       "    }\n",
       "\n",
       "    .dataframe tbody tr th {\n",
       "        vertical-align: top;\n",
       "    }\n",
       "\n",
       "    .dataframe thead th {\n",
       "        text-align: right;\n",
       "    }\n",
       "</style>\n",
       "<table border=\"1\" class=\"dataframe\">\n",
       "  <thead>\n",
       "    <tr style=\"text-align: right;\">\n",
       "      <th></th>\n",
       "      <th>step</th>\n",
       "      <th>type</th>\n",
       "      <th>amount</th>\n",
       "      <th>customer</th>\n",
       "      <th>customer_old_balance</th>\n",
       "      <th>customer_new_balance</th>\n",
       "      <th>recipient</th>\n",
       "      <th>recipient_old_balance</th>\n",
       "      <th>recipient_new_balance</th>\n",
       "      <th>is_fraud</th>\n",
       "      <th>is_flagged_fraud</th>\n",
       "    </tr>\n",
       "  </thead>\n",
       "  <tbody>\n",
       "    <tr>\n",
       "      <td>4965641</td>\n",
       "      <td>351</td>\n",
       "      <td>TRANSFER</td>\n",
       "      <td>63.80</td>\n",
       "      <td>C1293504491</td>\n",
       "      <td>63.80</td>\n",
       "      <td>0.00</td>\n",
       "      <td>C1368130863</td>\n",
       "      <td>0.00</td>\n",
       "      <td>0.00</td>\n",
       "      <td>1</td>\n",
       "      <td>0</td>\n",
       "    </tr>\n",
       "    <tr>\n",
       "      <td>4965642</td>\n",
       "      <td>351</td>\n",
       "      <td>CASH_OUT</td>\n",
       "      <td>63.80</td>\n",
       "      <td>C1861878353</td>\n",
       "      <td>63.80</td>\n",
       "      <td>0.00</td>\n",
       "      <td>C958479953</td>\n",
       "      <td>0.00</td>\n",
       "      <td>63.80</td>\n",
       "      <td>1</td>\n",
       "      <td>0</td>\n",
       "    </tr>\n",
       "    <tr>\n",
       "      <td>277265</td>\n",
       "      <td>15</td>\n",
       "      <td>TRANSFER</td>\n",
       "      <td>119.00</td>\n",
       "      <td>C1995557473</td>\n",
       "      <td>119.00</td>\n",
       "      <td>0.00</td>\n",
       "      <td>C1480876722</td>\n",
       "      <td>0.00</td>\n",
       "      <td>0.00</td>\n",
       "      <td>1</td>\n",
       "      <td>0</td>\n",
       "    </tr>\n",
       "    <tr>\n",
       "      <td>277266</td>\n",
       "      <td>15</td>\n",
       "      <td>CASH_OUT</td>\n",
       "      <td>119.00</td>\n",
       "      <td>C1584512618</td>\n",
       "      <td>119.00</td>\n",
       "      <td>0.00</td>\n",
       "      <td>C2102058838</td>\n",
       "      <td>4844060.13</td>\n",
       "      <td>4844179.13</td>\n",
       "      <td>1</td>\n",
       "      <td>0</td>\n",
       "    </tr>\n",
       "    <tr>\n",
       "      <td>6281816</td>\n",
       "      <td>653</td>\n",
       "      <td>CASH_OUT</td>\n",
       "      <td>119.65</td>\n",
       "      <td>C773613907</td>\n",
       "      <td>119.65</td>\n",
       "      <td>0.00</td>\n",
       "      <td>C1518370196</td>\n",
       "      <td>1183575.58</td>\n",
       "      <td>1183695.22</td>\n",
       "      <td>1</td>\n",
       "      <td>0</td>\n",
       "    </tr>\n",
       "    <tr>\n",
       "      <td>6281815</td>\n",
       "      <td>653</td>\n",
       "      <td>TRANSFER</td>\n",
       "      <td>119.65</td>\n",
       "      <td>C1497766467</td>\n",
       "      <td>119.65</td>\n",
       "      <td>0.00</td>\n",
       "      <td>C543477940</td>\n",
       "      <td>0.00</td>\n",
       "      <td>0.00</td>\n",
       "      <td>1</td>\n",
       "      <td>0</td>\n",
       "    </tr>\n",
       "    <tr>\n",
       "      <td>1796322</td>\n",
       "      <td>162</td>\n",
       "      <td>TRANSFER</td>\n",
       "      <td>151.00</td>\n",
       "      <td>C1172437299</td>\n",
       "      <td>151.00</td>\n",
       "      <td>0.00</td>\n",
       "      <td>C315826176</td>\n",
       "      <td>0.00</td>\n",
       "      <td>0.00</td>\n",
       "      <td>1</td>\n",
       "      <td>0</td>\n",
       "    </tr>\n",
       "    <tr>\n",
       "      <td>1796323</td>\n",
       "      <td>162</td>\n",
       "      <td>CASH_OUT</td>\n",
       "      <td>151.00</td>\n",
       "      <td>C790340353</td>\n",
       "      <td>151.00</td>\n",
       "      <td>0.00</td>\n",
       "      <td>C517676411</td>\n",
       "      <td>386163.34</td>\n",
       "      <td>386314.34</td>\n",
       "      <td>1</td>\n",
       "      <td>0</td>\n",
       "    </tr>\n",
       "    <tr>\n",
       "      <td>12180</td>\n",
       "      <td>7</td>\n",
       "      <td>CASH_OUT</td>\n",
       "      <td>164.00</td>\n",
       "      <td>C1173659886</td>\n",
       "      <td>164.00</td>\n",
       "      <td>0.00</td>\n",
       "      <td>C1769947269</td>\n",
       "      <td>4068.00</td>\n",
       "      <td>0.00</td>\n",
       "      <td>1</td>\n",
       "      <td>0</td>\n",
       "    </tr>\n",
       "    <tr>\n",
       "      <td>12179</td>\n",
       "      <td>7</td>\n",
       "      <td>TRANSFER</td>\n",
       "      <td>164.00</td>\n",
       "      <td>C1455969984</td>\n",
       "      <td>164.00</td>\n",
       "      <td>0.00</td>\n",
       "      <td>C2119910556</td>\n",
       "      <td>0.00</td>\n",
       "      <td>0.00</td>\n",
       "      <td>1</td>\n",
       "      <td>0</td>\n",
       "    </tr>\n",
       "    <tr>\n",
       "      <td>301802</td>\n",
       "      <td>15</td>\n",
       "      <td>CASH_OUT</td>\n",
       "      <td>170.00</td>\n",
       "      <td>C1065370362</td>\n",
       "      <td>170.00</td>\n",
       "      <td>0.00</td>\n",
       "      <td>C200064275</td>\n",
       "      <td>413421.36</td>\n",
       "      <td>345764.15</td>\n",
       "      <td>1</td>\n",
       "      <td>0</td>\n",
       "    </tr>\n",
       "    <tr>\n",
       "      <td>301801</td>\n",
       "      <td>15</td>\n",
       "      <td>TRANSFER</td>\n",
       "      <td>170.00</td>\n",
       "      <td>C553034695</td>\n",
       "      <td>170.00</td>\n",
       "      <td>0.00</td>\n",
       "      <td>C26381896</td>\n",
       "      <td>0.00</td>\n",
       "      <td>0.00</td>\n",
       "      <td>1</td>\n",
       "      <td>0</td>\n",
       "    </tr>\n",
       "    <tr>\n",
       "      <td>5187810</td>\n",
       "      <td>362</td>\n",
       "      <td>CASH_OUT</td>\n",
       "      <td>174.92</td>\n",
       "      <td>C722054736</td>\n",
       "      <td>174.92</td>\n",
       "      <td>0.00</td>\n",
       "      <td>C1009545186</td>\n",
       "      <td>29134.25</td>\n",
       "      <td>29309.17</td>\n",
       "      <td>1</td>\n",
       "      <td>0</td>\n",
       "    </tr>\n",
       "    <tr>\n",
       "      <td>5187809</td>\n",
       "      <td>362</td>\n",
       "      <td>TRANSFER</td>\n",
       "      <td>174.92</td>\n",
       "      <td>C1554022122</td>\n",
       "      <td>174.92</td>\n",
       "      <td>0.00</td>\n",
       "      <td>C380623487</td>\n",
       "      <td>0.00</td>\n",
       "      <td>0.00</td>\n",
       "      <td>1</td>\n",
       "      <td>0</td>\n",
       "    </tr>\n",
       "    <tr>\n",
       "      <td>2</td>\n",
       "      <td>1</td>\n",
       "      <td>TRANSFER</td>\n",
       "      <td>181.00</td>\n",
       "      <td>C1305486145</td>\n",
       "      <td>181.00</td>\n",
       "      <td>0.00</td>\n",
       "      <td>C553264065</td>\n",
       "      <td>0.00</td>\n",
       "      <td>0.00</td>\n",
       "      <td>1</td>\n",
       "      <td>0</td>\n",
       "    </tr>\n",
       "    <tr>\n",
       "      <td>3</td>\n",
       "      <td>1</td>\n",
       "      <td>CASH_OUT</td>\n",
       "      <td>181.00</td>\n",
       "      <td>C840083671</td>\n",
       "      <td>181.00</td>\n",
       "      <td>0.00</td>\n",
       "      <td>C38997010</td>\n",
       "      <td>21182.00</td>\n",
       "      <td>0.00</td>\n",
       "      <td>1</td>\n",
       "      <td>0</td>\n",
       "    </tr>\n",
       "    <tr>\n",
       "      <td>2875498</td>\n",
       "      <td>227</td>\n",
       "      <td>TRANSFER</td>\n",
       "      <td>210.92</td>\n",
       "      <td>C1016626170</td>\n",
       "      <td>210.92</td>\n",
       "      <td>0.00</td>\n",
       "      <td>C2092694129</td>\n",
       "      <td>0.00</td>\n",
       "      <td>0.00</td>\n",
       "      <td>1</td>\n",
       "      <td>0</td>\n",
       "    </tr>\n",
       "    <tr>\n",
       "      <td>2875499</td>\n",
       "      <td>227</td>\n",
       "      <td>CASH_OUT</td>\n",
       "      <td>210.92</td>\n",
       "      <td>C332921972</td>\n",
       "      <td>210.92</td>\n",
       "      <td>0.00</td>\n",
       "      <td>C814473635</td>\n",
       "      <td>3437310.40</td>\n",
       "      <td>3437521.31</td>\n",
       "      <td>1</td>\n",
       "      <td>0</td>\n",
       "    </tr>\n",
       "    <tr>\n",
       "      <td>1030453</td>\n",
       "      <td>65</td>\n",
       "      <td>TRANSFER</td>\n",
       "      <td>215.83</td>\n",
       "      <td>C270115029</td>\n",
       "      <td>215.83</td>\n",
       "      <td>0.00</td>\n",
       "      <td>C1574358644</td>\n",
       "      <td>0.00</td>\n",
       "      <td>0.00</td>\n",
       "      <td>1</td>\n",
       "      <td>0</td>\n",
       "    </tr>\n",
       "    <tr>\n",
       "      <td>1030454</td>\n",
       "      <td>65</td>\n",
       "      <td>CASH_OUT</td>\n",
       "      <td>215.83</td>\n",
       "      <td>C1831520820</td>\n",
       "      <td>215.83</td>\n",
       "      <td>0.00</td>\n",
       "      <td>C331175512</td>\n",
       "      <td>3563442.24</td>\n",
       "      <td>3563658.07</td>\n",
       "      <td>1</td>\n",
       "      <td>0</td>\n",
       "    </tr>\n",
       "  </tbody>\n",
       "</table>\n",
       "</div>"
      ],
      "text/plain": [
       "         step      type  amount     customer  customer_old_balance  \\\n",
       "4965641  351   TRANSFER 63.80    C1293504491 63.80                   \n",
       "4965642  351   CASH_OUT 63.80    C1861878353 63.80                   \n",
       "277265   15    TRANSFER 119.00   C1995557473 119.00                  \n",
       "277266   15    CASH_OUT 119.00   C1584512618 119.00                  \n",
       "6281816  653   CASH_OUT 119.65   C773613907  119.65                  \n",
       "6281815  653   TRANSFER 119.65   C1497766467 119.65                  \n",
       "1796322  162   TRANSFER 151.00   C1172437299 151.00                  \n",
       "1796323  162   CASH_OUT 151.00   C790340353  151.00                  \n",
       "12180    7     CASH_OUT 164.00   C1173659886 164.00                  \n",
       "12179    7     TRANSFER 164.00   C1455969984 164.00                  \n",
       "301802   15    CASH_OUT 170.00   C1065370362 170.00                  \n",
       "301801   15    TRANSFER 170.00   C553034695  170.00                  \n",
       "5187810  362   CASH_OUT 174.92   C722054736  174.92                  \n",
       "5187809  362   TRANSFER 174.92   C1554022122 174.92                  \n",
       "2        1     TRANSFER 181.00   C1305486145 181.00                  \n",
       "3        1     CASH_OUT 181.00   C840083671  181.00                  \n",
       "2875498  227   TRANSFER 210.92   C1016626170 210.92                  \n",
       "2875499  227   CASH_OUT 210.92   C332921972  210.92                  \n",
       "1030453  65    TRANSFER 215.83   C270115029  215.83                  \n",
       "1030454  65    CASH_OUT 215.83   C1831520820 215.83                  \n",
       "\n",
       "         customer_new_balance    recipient  recipient_old_balance  \\\n",
       "4965641 0.00                   C1368130863 0.00                     \n",
       "4965642 0.00                   C958479953  0.00                     \n",
       "277265  0.00                   C1480876722 0.00                     \n",
       "277266  0.00                   C2102058838 4844060.13               \n",
       "6281816 0.00                   C1518370196 1183575.58               \n",
       "6281815 0.00                   C543477940  0.00                     \n",
       "1796322 0.00                   C315826176  0.00                     \n",
       "1796323 0.00                   C517676411  386163.34                \n",
       "12180   0.00                   C1769947269 4068.00                  \n",
       "12179   0.00                   C2119910556 0.00                     \n",
       "301802  0.00                   C200064275  413421.36                \n",
       "301801  0.00                   C26381896   0.00                     \n",
       "5187810 0.00                   C1009545186 29134.25                 \n",
       "5187809 0.00                   C380623487  0.00                     \n",
       "2       0.00                   C553264065  0.00                     \n",
       "3       0.00                   C38997010   21182.00                 \n",
       "2875498 0.00                   C2092694129 0.00                     \n",
       "2875499 0.00                   C814473635  3437310.40               \n",
       "1030453 0.00                   C1574358644 0.00                     \n",
       "1030454 0.00                   C331175512  3563442.24               \n",
       "\n",
       "         recipient_new_balance  is_fraud  is_flagged_fraud  \n",
       "4965641 0.00                    1         0                 \n",
       "4965642 63.80                   1         0                 \n",
       "277265  0.00                    1         0                 \n",
       "277266  4844179.13              1         0                 \n",
       "6281816 1183695.22              1         0                 \n",
       "6281815 0.00                    1         0                 \n",
       "1796322 0.00                    1         0                 \n",
       "1796323 386314.34               1         0                 \n",
       "12180   0.00                    1         0                 \n",
       "12179   0.00                    1         0                 \n",
       "301802  345764.15               1         0                 \n",
       "301801  0.00                    1         0                 \n",
       "5187810 29309.17                1         0                 \n",
       "5187809 0.00                    1         0                 \n",
       "2       0.00                    1         0                 \n",
       "3       0.00                    1         0                 \n",
       "2875498 0.00                    1         0                 \n",
       "2875499 3437521.31              1         0                 \n",
       "1030453 0.00                    1         0                 \n",
       "1030454 3563658.07              1         0                 "
      ]
     },
     "execution_count": 491,
     "metadata": {},
     "output_type": "execute_result"
    }
   ],
   "source": [
    "df[(df.is_fraud == 1) & (df.amount !=0)].sort_values(\"amount\").head(20)"
   ]
  },
  {
   "cell_type": "code",
   "execution_count": 497,
   "metadata": {},
   "outputs": [
    {
     "data": {
      "text/plain": [
       "array(['C553264065', 'C972765878', 'C1848415041', ..., 'C1850423904',\n",
       "       'C1881841831', 'C2080388513'], dtype=object)"
      ]
     },
     "execution_count": 497,
     "metadata": {},
     "output_type": "execute_result"
    }
   ],
   "source": [
    "fraud_receiver = df[(df.is_fraud == 1) & (df.type==\"TRANSFER\")].recipient.values\n",
    "fraud_receiver"
   ]
  },
  {
   "cell_type": "code",
   "execution_count": 503,
   "metadata": {},
   "outputs": [
    {
     "ename": "ValueError",
     "evalue": "Lengths must match to compare",
     "output_type": "error",
     "traceback": [
      "\u001b[0;31m---------------------------------------------------------------------------\u001b[0m",
      "\u001b[0;31mValueError\u001b[0m                                Traceback (most recent call last)",
      "\u001b[0;32m<ipython-input-503-d2625b2ce880>\u001b[0m in \u001b[0;36m<module>\u001b[0;34m\u001b[0m\n\u001b[0;32m----> 1\u001b[0;31m \u001b[0mdf\u001b[0m\u001b[0;34m[\u001b[0m\u001b[0mdf\u001b[0m\u001b[0;34m.\u001b[0m\u001b[0mcustomer\u001b[0m \u001b[0;32min\u001b[0m \u001b[0mfraud_receiver\u001b[0m\u001b[0;34m]\u001b[0m\u001b[0;34m\u001b[0m\u001b[0;34m\u001b[0m\u001b[0m\n\u001b[0m",
      "\u001b[0;32m/Applications/anaconda3/envs/learn-env/lib/python3.6/site-packages/pandas/core/ops/__init__.py\u001b[0m in \u001b[0;36mwrapper\u001b[0;34m(self, other, axis)\u001b[0m\n\u001b[1;32m   1205\u001b[0m             \u001b[0;31m# as it will broadcast\u001b[0m\u001b[0;34m\u001b[0m\u001b[0;34m\u001b[0m\u001b[0;34m\u001b[0m\u001b[0m\n\u001b[1;32m   1206\u001b[0m             \u001b[0;32mif\u001b[0m \u001b[0mother\u001b[0m\u001b[0;34m.\u001b[0m\u001b[0mndim\u001b[0m \u001b[0;34m!=\u001b[0m \u001b[0;36m0\u001b[0m \u001b[0;32mand\u001b[0m \u001b[0mlen\u001b[0m\u001b[0;34m(\u001b[0m\u001b[0mself\u001b[0m\u001b[0;34m)\u001b[0m \u001b[0;34m!=\u001b[0m \u001b[0mlen\u001b[0m\u001b[0;34m(\u001b[0m\u001b[0mother\u001b[0m\u001b[0;34m)\u001b[0m\u001b[0;34m:\u001b[0m\u001b[0;34m\u001b[0m\u001b[0;34m\u001b[0m\u001b[0m\n\u001b[0;32m-> 1207\u001b[0;31m                 \u001b[0;32mraise\u001b[0m \u001b[0mValueError\u001b[0m\u001b[0;34m(\u001b[0m\u001b[0;34m\"Lengths must match to compare\"\u001b[0m\u001b[0;34m)\u001b[0m\u001b[0;34m\u001b[0m\u001b[0;34m\u001b[0m\u001b[0m\n\u001b[0m\u001b[1;32m   1208\u001b[0m \u001b[0;34m\u001b[0m\u001b[0m\n\u001b[1;32m   1209\u001b[0m             \u001b[0mres_values\u001b[0m \u001b[0;34m=\u001b[0m \u001b[0mna_op\u001b[0m\u001b[0;34m(\u001b[0m\u001b[0mself\u001b[0m\u001b[0;34m.\u001b[0m\u001b[0mvalues\u001b[0m\u001b[0;34m,\u001b[0m \u001b[0mnp\u001b[0m\u001b[0;34m.\u001b[0m\u001b[0masarray\u001b[0m\u001b[0;34m(\u001b[0m\u001b[0mother\u001b[0m\u001b[0;34m)\u001b[0m\u001b[0;34m)\u001b[0m\u001b[0;34m\u001b[0m\u001b[0;34m\u001b[0m\u001b[0m\n",
      "\u001b[0;31mValueError\u001b[0m: Lengths must match to compare"
     ]
    }
   ],
   "source": [
    "df[df.customer in fraud_receiver]"
   ]
  },
  {
   "cell_type": "code",
   "execution_count": 145,
   "metadata": {},
   "outputs": [],
   "source": [
    "# sns.catplot(x=\"is_fraud\",\n",
    "#             y=\"transaction count\",\n",
    "#             col=\"type\",\n",
    "#             data=df[(df.type == \"CASH_OUT\") | (df.type == \"TRANSFER\")].groupby(\n",
    "#                 [\"type\", \"is_fraud\"]).count().reset_index().rename(\n",
    "#                     mapper={\"step\": \"transaction count\"}, axis=1),\n",
    "#             kind=\"bar\",\n",
    "#            palette=\"Set2\")\n",
    "# plt.show()"
   ]
  },
  {
   "cell_type": "code",
   "execution_count": 146,
   "metadata": {},
   "outputs": [],
   "source": [
    "# for type_ in df.type.unique():\n",
    "#     if list(df.type.unique()).index(type_) == 0:\n",
    "#         print(\"====={}=====\".format(type_))\n",
    "#     else:\n",
    "#         print(\"\\n====={}=====\".format(type_))\n",
    "#     print(df.query(\"type == @type_\").is_fraud.value_counts(normalize=True)*100)"
   ]
  },
  {
   "cell_type": "markdown",
   "metadata": {},
   "source": [
    "## amount"
   ]
  },
  {
   "cell_type": "markdown",
   "metadata": {},
   "source": [
    "The amount ranges from \\\\$0 to \\\\$92445516.64. The most common value is \\\\$10m which appeared 3207x. 287 transactions of which are fraudulent transactions.\n",
    "\n",
    "This feature is skewed to the right."
   ]
  },
  {
   "cell_type": "code",
   "execution_count": 184,
   "metadata": {
    "scrolled": false
   },
   "outputs": [
    {
     "data": {
      "image/png": "[encoded data removed]",
      "text/plain": [
       "<Figure size 1440x504 with 1 Axes>"
      ]
     },
     "metadata": {
      "needs_background": "light"
     },
     "output_type": "display_data"
    }
   ],
   "source": [
    "# fig = plt.figure(figsize=(25, 7))\n",
    "# for i, col in enumerate([\"amount\", \"amount_log\"]):\n",
    "#     ax = fig.add_subplot(1, 2, i + 1)\n",
    "#     sns.distplot(df[col])\n",
    "#     plt.xlabel(None)\n",
    "#     plt.title(col, fontsize=20, color=\"black\")\n",
    "# plt.show()\n",
    "\n",
    "fig = plt.figure(figsize=(20, 7))\n",
    "sns.distplot(df.amount)\n",
    "plt.xticks(range(0, 110000000, 10000000), range(0, 110, 10))\n",
    "plt.xlabel(\"amount ($m)\")\n",
    "plt.show()"
   ]
  },
  {
   "cell_type": "code",
   "execution_count": 230,
   "metadata": {},
   "outputs": [
    {
     "data": {
      "text/html": [
       "<div>\n",
       "<style scoped>\n",
       "    .dataframe tbody tr th:only-of-type {\n",
       "        vertical-align: middle;\n",
       "    }\n",
       "\n",
       "    .dataframe tbody tr th {\n",
       "        vertical-align: top;\n",
       "    }\n",
       "\n",
       "    .dataframe thead th {\n",
       "        text-align: right;\n",
       "    }\n",
       "</style>\n",
       "<table border=\"1\" class=\"dataframe\">\n",
       "  <thead>\n",
       "    <tr style=\"text-align: right;\">\n",
       "      <th></th>\n",
       "      <th>amount</th>\n",
       "      <th>count</th>\n",
       "    </tr>\n",
       "  </thead>\n",
       "  <tbody>\n",
       "    <tr>\n",
       "      <td>0</td>\n",
       "      <td>10000000.0</td>\n",
       "      <td>3207</td>\n",
       "    </tr>\n",
       "    <tr>\n",
       "      <td>1</td>\n",
       "      <td>10000.0</td>\n",
       "      <td>88</td>\n",
       "    </tr>\n",
       "    <tr>\n",
       "      <td>2</td>\n",
       "      <td>5000.0</td>\n",
       "      <td>79</td>\n",
       "    </tr>\n",
       "    <tr>\n",
       "      <td>3</td>\n",
       "      <td>15000.0</td>\n",
       "      <td>68</td>\n",
       "    </tr>\n",
       "    <tr>\n",
       "      <td>4</td>\n",
       "      <td>500.0</td>\n",
       "      <td>65</td>\n",
       "    </tr>\n",
       "    <tr>\n",
       "      <td>5</td>\n",
       "      <td>100000.0</td>\n",
       "      <td>42</td>\n",
       "    </tr>\n",
       "    <tr>\n",
       "      <td>6</td>\n",
       "      <td>21500.0</td>\n",
       "      <td>37</td>\n",
       "    </tr>\n",
       "    <tr>\n",
       "      <td>7</td>\n",
       "      <td>120000.0</td>\n",
       "      <td>29</td>\n",
       "    </tr>\n",
       "    <tr>\n",
       "      <td>8</td>\n",
       "      <td>135000.0</td>\n",
       "      <td>20</td>\n",
       "    </tr>\n",
       "    <tr>\n",
       "      <td>9</td>\n",
       "      <td>0.0</td>\n",
       "      <td>16</td>\n",
       "    </tr>\n",
       "  </tbody>\n",
       "</table>\n",
       "</div>"
      ],
      "text/plain": [
       "       amount  count\n",
       "0  10000000.0  3207 \n",
       "1  10000.0     88   \n",
       "2  5000.0      79   \n",
       "3  15000.0     68   \n",
       "4  500.0       65   \n",
       "5  100000.0    42   \n",
       "6  21500.0     37   \n",
       "7  120000.0    29   \n",
       "8  135000.0    20   \n",
       "9  0.0         16   "
      ]
     },
     "execution_count": 230,
     "metadata": {},
     "output_type": "execute_result"
    }
   ],
   "source": [
    "pd.DataFrame(df.amount.value_counts().head(10)).reset_index().rename(mapper={\n",
    "    \"index\":\"amount\",\n",
    "    \"amount\":\"count\"\n",
    "},\n",
    "                                                                   axis=1)"
   ]
  },
  {
   "cell_type": "code",
   "execution_count": 376,
   "metadata": {
    "scrolled": false
   },
   "outputs": [
    {
     "data": {
      "text/html": [
       "<div>\n",
       "<style scoped>\n",
       "    .dataframe tbody tr th:only-of-type {\n",
       "        vertical-align: middle;\n",
       "    }\n",
       "\n",
       "    .dataframe tbody tr th {\n",
       "        vertical-align: top;\n",
       "    }\n",
       "\n",
       "    .dataframe thead tr th {\n",
       "        text-align: left;\n",
       "    }\n",
       "</style>\n",
       "<table border=\"1\" class=\"dataframe\">\n",
       "  <thead>\n",
       "    <tr>\n",
       "      <th></th>\n",
       "      <th colspan=\"2\" halign=\"left\">amount</th>\n",
       "    </tr>\n",
       "    <tr>\n",
       "      <th>is_fraud</th>\n",
       "      <th>0</th>\n",
       "      <th>1</th>\n",
       "    </tr>\n",
       "  </thead>\n",
       "  <tbody>\n",
       "    <tr>\n",
       "      <td>count</td>\n",
       "      <td>6354407.00</td>\n",
       "      <td>8213.00</td>\n",
       "    </tr>\n",
       "    <tr>\n",
       "      <td>mean</td>\n",
       "      <td>178197.04</td>\n",
       "      <td>1467967.30</td>\n",
       "    </tr>\n",
       "    <tr>\n",
       "      <td>std</td>\n",
       "      <td>596236.98</td>\n",
       "      <td>2404252.95</td>\n",
       "    </tr>\n",
       "    <tr>\n",
       "      <td>min</td>\n",
       "      <td>0.01</td>\n",
       "      <td>0.00</td>\n",
       "    </tr>\n",
       "    <tr>\n",
       "      <td>25%</td>\n",
       "      <td>13368.40</td>\n",
       "      <td>127091.33</td>\n",
       "    </tr>\n",
       "    <tr>\n",
       "      <td>50%</td>\n",
       "      <td>74684.72</td>\n",
       "      <td>441423.44</td>\n",
       "    </tr>\n",
       "    <tr>\n",
       "      <td>75%</td>\n",
       "      <td>208364.76</td>\n",
       "      <td>1517771.48</td>\n",
       "    </tr>\n",
       "    <tr>\n",
       "      <td>max</td>\n",
       "      <td>92445516.64</td>\n",
       "      <td>10000000.00</td>\n",
       "    </tr>\n",
       "  </tbody>\n",
       "</table>\n",
       "</div>"
      ],
      "text/plain": [
       "              amount            \n",
       "is_fraud           0           1\n",
       "count    6354407.00  8213.00    \n",
       "mean     178197.04   1467967.30 \n",
       "std      596236.98   2404252.95 \n",
       "min      0.01        0.00       \n",
       "25%      13368.40    127091.33  \n",
       "50%      74684.72    441423.44  \n",
       "75%      208364.76   1517771.48 \n",
       "max      92445516.64 10000000.00"
      ]
     },
     "execution_count": 376,
     "metadata": {},
     "output_type": "execute_result"
    }
   ],
   "source": [
    "df[[\"amount\", \"is_fraud\"]].pivot(columns=\"is_fraud\").describe()"
   ]
  },
  {
   "cell_type": "code",
   "execution_count": 228,
   "metadata": {},
   "outputs": [
    {
     "data": {
      "text/html": [
       "<div>\n",
       "<style scoped>\n",
       "    .dataframe tbody tr th:only-of-type {\n",
       "        vertical-align: middle;\n",
       "    }\n",
       "\n",
       "    .dataframe tbody tr th {\n",
       "        vertical-align: top;\n",
       "    }\n",
       "\n",
       "    .dataframe thead th {\n",
       "        text-align: right;\n",
       "    }\n",
       "</style>\n",
       "<table border=\"1\" class=\"dataframe\">\n",
       "  <thead>\n",
       "    <tr style=\"text-align: right;\">\n",
       "      <th></th>\n",
       "      <th>amount</th>\n",
       "      <th>count</th>\n",
       "    </tr>\n",
       "  </thead>\n",
       "  <tbody>\n",
       "    <tr>\n",
       "      <td>0</td>\n",
       "      <td>10000000.00</td>\n",
       "      <td>287</td>\n",
       "    </tr>\n",
       "    <tr>\n",
       "      <td>1</td>\n",
       "      <td>0.00</td>\n",
       "      <td>16</td>\n",
       "    </tr>\n",
       "    <tr>\n",
       "      <td>2</td>\n",
       "      <td>429257.45</td>\n",
       "      <td>4</td>\n",
       "    </tr>\n",
       "    <tr>\n",
       "      <td>3</td>\n",
       "      <td>1165187.89</td>\n",
       "      <td>4</td>\n",
       "    </tr>\n",
       "    <tr>\n",
       "      <td>4</td>\n",
       "      <td>76646.05</td>\n",
       "      <td>2</td>\n",
       "    </tr>\n",
       "    <tr>\n",
       "      <td>5</td>\n",
       "      <td>25529.76</td>\n",
       "      <td>2</td>\n",
       "    </tr>\n",
       "    <tr>\n",
       "      <td>6</td>\n",
       "      <td>2689633.80</td>\n",
       "      <td>2</td>\n",
       "    </tr>\n",
       "    <tr>\n",
       "      <td>7</td>\n",
       "      <td>296699.39</td>\n",
       "      <td>2</td>\n",
       "    </tr>\n",
       "    <tr>\n",
       "      <td>8</td>\n",
       "      <td>1041647.06</td>\n",
       "      <td>2</td>\n",
       "    </tr>\n",
       "    <tr>\n",
       "      <td>9</td>\n",
       "      <td>447474.67</td>\n",
       "      <td>2</td>\n",
       "    </tr>\n",
       "  </tbody>\n",
       "</table>\n",
       "</div>"
      ],
      "text/plain": [
       "        amount  count\n",
       "0  10000000.00  287  \n",
       "1  0.00         16   \n",
       "2  429257.45    4    \n",
       "3  1165187.89   4    \n",
       "4  76646.05     2    \n",
       "5  25529.76     2    \n",
       "6  2689633.80   2    \n",
       "7  296699.39    2    \n",
       "8  1041647.06   2    \n",
       "9  447474.67    2    "
      ]
     },
     "execution_count": 228,
     "metadata": {},
     "output_type": "execute_result"
    }
   ],
   "source": [
    "pd.DataFrame(\n",
    "    df[df.is_fraud == 1].amount.value_counts().head(10)).reset_index().rename(\n",
    "        mapper={\n",
    "            \"index\": \"amount\",\n",
    "            \"amount\": \"count\"\n",
    "        }, axis=1)"
   ]
  },
  {
   "cell_type": "markdown",
   "metadata": {},
   "source": [
    "These zero amount transactions are all fraudulent transactions. Customer old and new balances are both zero as well and there was no change to the recipient balances.  Is it possible that these transactions did not go through?"
   ]
  },
  {
   "cell_type": "code",
   "execution_count": 169,
   "metadata": {},
   "outputs": [
    {
     "data": {
      "text/html": [
       "<div>\n",
       "<style scoped>\n",
       "    .dataframe tbody tr th:only-of-type {\n",
       "        vertical-align: middle;\n",
       "    }\n",
       "\n",
       "    .dataframe tbody tr th {\n",
       "        vertical-align: top;\n",
       "    }\n",
       "\n",
       "    .dataframe thead th {\n",
       "        text-align: right;\n",
       "    }\n",
       "</style>\n",
       "<table border=\"1\" class=\"dataframe\">\n",
       "  <thead>\n",
       "    <tr style=\"text-align: right;\">\n",
       "      <th></th>\n",
       "      <th>amount</th>\n",
       "      <th>type</th>\n",
       "      <th>customer_old_balance</th>\n",
       "      <th>customer_new_balance</th>\n",
       "      <th>check_recipient_balance</th>\n",
       "      <th>is_fraud</th>\n",
       "      <th>is_flagged_fraud</th>\n",
       "    </tr>\n",
       "  </thead>\n",
       "  <tbody>\n",
       "    <tr>\n",
       "      <td>2736447</td>\n",
       "      <td>0.0</td>\n",
       "      <td>CASH_OUT</td>\n",
       "      <td>0.0</td>\n",
       "      <td>0.0</td>\n",
       "      <td>0.0</td>\n",
       "      <td>1</td>\n",
       "      <td>0</td>\n",
       "    </tr>\n",
       "    <tr>\n",
       "      <td>3247298</td>\n",
       "      <td>0.0</td>\n",
       "      <td>CASH_OUT</td>\n",
       "      <td>0.0</td>\n",
       "      <td>0.0</td>\n",
       "      <td>0.0</td>\n",
       "      <td>1</td>\n",
       "      <td>0</td>\n",
       "    </tr>\n",
       "    <tr>\n",
       "      <td>3760289</td>\n",
       "      <td>0.0</td>\n",
       "      <td>CASH_OUT</td>\n",
       "      <td>0.0</td>\n",
       "      <td>0.0</td>\n",
       "      <td>0.0</td>\n",
       "      <td>1</td>\n",
       "      <td>0</td>\n",
       "    </tr>\n",
       "    <tr>\n",
       "      <td>5563714</td>\n",
       "      <td>0.0</td>\n",
       "      <td>CASH_OUT</td>\n",
       "      <td>0.0</td>\n",
       "      <td>0.0</td>\n",
       "      <td>0.0</td>\n",
       "      <td>1</td>\n",
       "      <td>0</td>\n",
       "    </tr>\n",
       "    <tr>\n",
       "      <td>5996408</td>\n",
       "      <td>0.0</td>\n",
       "      <td>CASH_OUT</td>\n",
       "      <td>0.0</td>\n",
       "      <td>0.0</td>\n",
       "      <td>0.0</td>\n",
       "      <td>1</td>\n",
       "      <td>0</td>\n",
       "    </tr>\n",
       "    <tr>\n",
       "      <td>5996410</td>\n",
       "      <td>0.0</td>\n",
       "      <td>CASH_OUT</td>\n",
       "      <td>0.0</td>\n",
       "      <td>0.0</td>\n",
       "      <td>0.0</td>\n",
       "      <td>1</td>\n",
       "      <td>0</td>\n",
       "    </tr>\n",
       "    <tr>\n",
       "      <td>6168500</td>\n",
       "      <td>0.0</td>\n",
       "      <td>CASH_OUT</td>\n",
       "      <td>0.0</td>\n",
       "      <td>0.0</td>\n",
       "      <td>0.0</td>\n",
       "      <td>1</td>\n",
       "      <td>0</td>\n",
       "    </tr>\n",
       "    <tr>\n",
       "      <td>6205440</td>\n",
       "      <td>0.0</td>\n",
       "      <td>CASH_OUT</td>\n",
       "      <td>0.0</td>\n",
       "      <td>0.0</td>\n",
       "      <td>0.0</td>\n",
       "      <td>1</td>\n",
       "      <td>0</td>\n",
       "    </tr>\n",
       "    <tr>\n",
       "      <td>6266414</td>\n",
       "      <td>0.0</td>\n",
       "      <td>CASH_OUT</td>\n",
       "      <td>0.0</td>\n",
       "      <td>0.0</td>\n",
       "      <td>0.0</td>\n",
       "      <td>1</td>\n",
       "      <td>0</td>\n",
       "    </tr>\n",
       "    <tr>\n",
       "      <td>6281483</td>\n",
       "      <td>0.0</td>\n",
       "      <td>CASH_OUT</td>\n",
       "      <td>0.0</td>\n",
       "      <td>0.0</td>\n",
       "      <td>0.0</td>\n",
       "      <td>1</td>\n",
       "      <td>0</td>\n",
       "    </tr>\n",
       "    <tr>\n",
       "      <td>6281485</td>\n",
       "      <td>0.0</td>\n",
       "      <td>CASH_OUT</td>\n",
       "      <td>0.0</td>\n",
       "      <td>0.0</td>\n",
       "      <td>0.0</td>\n",
       "      <td>1</td>\n",
       "      <td>0</td>\n",
       "    </tr>\n",
       "    <tr>\n",
       "      <td>6296015</td>\n",
       "      <td>0.0</td>\n",
       "      <td>CASH_OUT</td>\n",
       "      <td>0.0</td>\n",
       "      <td>0.0</td>\n",
       "      <td>0.0</td>\n",
       "      <td>1</td>\n",
       "      <td>0</td>\n",
       "    </tr>\n",
       "    <tr>\n",
       "      <td>6351226</td>\n",
       "      <td>0.0</td>\n",
       "      <td>CASH_OUT</td>\n",
       "      <td>0.0</td>\n",
       "      <td>0.0</td>\n",
       "      <td>0.0</td>\n",
       "      <td>1</td>\n",
       "      <td>0</td>\n",
       "    </tr>\n",
       "    <tr>\n",
       "      <td>6362461</td>\n",
       "      <td>0.0</td>\n",
       "      <td>CASH_OUT</td>\n",
       "      <td>0.0</td>\n",
       "      <td>0.0</td>\n",
       "      <td>0.0</td>\n",
       "      <td>1</td>\n",
       "      <td>0</td>\n",
       "    </tr>\n",
       "    <tr>\n",
       "      <td>6362463</td>\n",
       "      <td>0.0</td>\n",
       "      <td>CASH_OUT</td>\n",
       "      <td>0.0</td>\n",
       "      <td>0.0</td>\n",
       "      <td>0.0</td>\n",
       "      <td>1</td>\n",
       "      <td>0</td>\n",
       "    </tr>\n",
       "    <tr>\n",
       "      <td>6362585</td>\n",
       "      <td>0.0</td>\n",
       "      <td>CASH_OUT</td>\n",
       "      <td>0.0</td>\n",
       "      <td>0.0</td>\n",
       "      <td>0.0</td>\n",
       "      <td>1</td>\n",
       "      <td>0</td>\n",
       "    </tr>\n",
       "  </tbody>\n",
       "</table>\n",
       "</div>"
      ],
      "text/plain": [
       "         amount      type  customer_old_balance  customer_new_balance  \\\n",
       "2736447  0.0     CASH_OUT  0.0                   0.0                    \n",
       "3247298  0.0     CASH_OUT  0.0                   0.0                    \n",
       "3760289  0.0     CASH_OUT  0.0                   0.0                    \n",
       "5563714  0.0     CASH_OUT  0.0                   0.0                    \n",
       "5996408  0.0     CASH_OUT  0.0                   0.0                    \n",
       "5996410  0.0     CASH_OUT  0.0                   0.0                    \n",
       "6168500  0.0     CASH_OUT  0.0                   0.0                    \n",
       "6205440  0.0     CASH_OUT  0.0                   0.0                    \n",
       "6266414  0.0     CASH_OUT  0.0                   0.0                    \n",
       "6281483  0.0     CASH_OUT  0.0                   0.0                    \n",
       "6281485  0.0     CASH_OUT  0.0                   0.0                    \n",
       "6296015  0.0     CASH_OUT  0.0                   0.0                    \n",
       "6351226  0.0     CASH_OUT  0.0                   0.0                    \n",
       "6362461  0.0     CASH_OUT  0.0                   0.0                    \n",
       "6362463  0.0     CASH_OUT  0.0                   0.0                    \n",
       "6362585  0.0     CASH_OUT  0.0                   0.0                    \n",
       "\n",
       "         check_recipient_balance  is_fraud  is_flagged_fraud  \n",
       "2736447  0.0                      1         0                 \n",
       "3247298  0.0                      1         0                 \n",
       "3760289  0.0                      1         0                 \n",
       "5563714  0.0                      1         0                 \n",
       "5996408  0.0                      1         0                 \n",
       "5996410  0.0                      1         0                 \n",
       "6168500  0.0                      1         0                 \n",
       "6205440  0.0                      1         0                 \n",
       "6266414  0.0                      1         0                 \n",
       "6281483  0.0                      1         0                 \n",
       "6281485  0.0                      1         0                 \n",
       "6296015  0.0                      1         0                 \n",
       "6351226  0.0                      1         0                 \n",
       "6362461  0.0                      1         0                 \n",
       "6362463  0.0                      1         0                 \n",
       "6362585  0.0                      1         0                 "
      ]
     },
     "metadata": {},
     "output_type": "display_data"
    }
   ],
   "source": [
    "zero = df[df.amount == 0]\n",
    "\n",
    "zero[\"check_recipient_balance\"] = zero[\"recipient_new_balance\"] - zero[\n",
    "    \"recipient_old_balance\"]\n",
    "display(zero[[\n",
    "    \"amount\", \"type\", \"customer_old_balance\", \"customer_new_balance\",\n",
    "    \"check_recipient_balance\", \"is_fraud\", \"is_flagged_fraud\"\n",
    "]])\n",
    "del zero"
   ]
  },
  {
   "cell_type": "code",
   "execution_count": 179,
   "metadata": {},
   "outputs": [],
   "source": [
    "# to_graph = df[df.customer_old_balance==0]\n",
    "\n",
    "# fig = plt.figure(figsize=(20, 10))\n",
    "# plt.scatter(to_graph.amount, to_graph.customer_old_balance, c=to_graph.is_fraud)\n",
    "# plt.yticks(range(0, 100000000, 10000000), range(0, 100000, 10000))\n",
    "# plt.yticks(range(0, 11000000, 1000000), range(0, 11000, 1000))\n",
    "# plt.show"
   ]
  },
  {
   "cell_type": "markdown",
   "metadata": {},
   "source": [
    "## customer, recipient"
   ]
  },
  {
   "cell_type": "code",
   "execution_count": 74,
   "metadata": {},
   "outputs": [
    {
     "name": "stdout",
     "output_type": "stream",
     "text": [
      "There are 6353307 unique customer IDs.\n",
      "There are 2722362 unique recipient IDs.\n",
      "There are 9073900 unique IDs in this dataset.\n"
     ]
    }
   ],
   "source": [
    "print(\"There are {} unique customer IDs.\".format(df.customer.nunique()))\n",
    "\n",
    "print(\"There are {} unique recipient IDs.\".format(df.recipient.nunique()))\n",
    "\n",
    "print(\"There are {} unique IDs in this dataset.\".format(\n",
    "    len(set(list(df.customer.unique()) + list(df.recipient.unique())))))"
   ]
  },
  {
   "cell_type": "code",
   "execution_count": 75,
   "metadata": {},
   "outputs": [
    {
     "name": "stdout",
     "output_type": "stream",
     "text": [
      "There are 1769 IDs that are both customer and recipient.\n"
     ]
    }
   ],
   "source": [
    "print(\"There are {} IDs that are both customer and recipient.\".format(\n",
    "    len(\n",
    "        pd.DataFrame(df.customer.unique()).merge(pd.DataFrame(\n",
    "            df.recipient.unique()),\n",
    "                                                 how=\"inner\"))))"
   ]
  },
  {
   "cell_type": "code",
   "execution_count": 77,
   "metadata": {},
   "outputs": [
    {
     "name": "stdout",
     "output_type": "stream",
     "text": [
      "There are 9313 IDs appeared more than once as customers.\n",
      "There are 3640258 IDs appeared more than once as recipients.\n"
     ]
    }
   ],
   "source": [
    "print(\"There are {} IDs appeared more than once as customers.\".format(\n",
    "    len(df[df.customer.duplicated(keep=\"first\") == True].customer)))\n",
    "\n",
    "print(\"There are {} IDs appeared more than once as recipients.\".format(\n",
    "    len(df[df.recipient.duplicated(keep=\"first\") == True].recipient)))"
   ]
  },
  {
   "cell_type": "code",
   "execution_count": 78,
   "metadata": {},
   "outputs": [
    {
     "name": "stdout",
     "output_type": "stream",
     "text": [
      "There are 0 merchants that initiated transactions.\n",
      "There are 2151495 merchants as recipients.\n"
     ]
    }
   ],
   "source": [
    "print(\"There are {} merchants that initiated transactions.\".format(\n",
    "    len(df[df.customer.str.contains(\"M\")])))\n",
    "\n",
    "print(\"There are {} merchants as recipients.\".format(\n",
    "    len(df[df.recipient.str.contains(\"M\")])))"
   ]
  },
  {
   "cell_type": "code",
   "execution_count": 79,
   "metadata": {},
   "outputs": [
    {
     "name": "stdout",
     "output_type": "stream",
     "text": [
      "=====Merchant as Recipient=====\n",
      "FEATURE:  type\n",
      "PAYMENT    100.0\n",
      "Name: type, dtype: float64\n",
      "FEATURE:  is_fraud\n",
      "0    100.0\n",
      "Name: is_fraud, dtype: float64\n",
      "FEATURE:  is_flagged_fraud\n",
      "0    100.0\n",
      "Name: is_flagged_fraud, dtype: float64\n"
     ]
    }
   ],
   "source": [
    "cols = [\"type\", \"is_fraud\", \"is_flagged_fraud\"]\n",
    "print(\"=====Merchant as Recipient=====\")\n",
    "for col in cols:\n",
    "    print(\"FEATURE: \", col)\n",
    "    print(df[df.recipient.str.contains(\"M\")][col].value_counts(normalize=True)*100)"
   ]
  },
  {
   "cell_type": "code",
   "execution_count": 231,
   "metadata": {},
   "outputs": [
    {
     "name": "stdout",
     "output_type": "stream",
     "text": [
      "There are 16382 IDs involved in fraudulent transactions.\n"
     ]
    }
   ],
   "source": [
    "print(\"There are {} IDs involved in fraudulent transactions.\".format(\n",
    "    len(\n",
    "        set(\n",
    "            list(df[df.is_fraud == 1].customer.unique()) +\n",
    "            list(df[df.is_fraud == 1].recipient.unique())))))"
   ]
  },
  {
   "cell_type": "code",
   "execution_count": 232,
   "metadata": {},
   "outputs": [
    {
     "name": "stdout",
     "output_type": "stream",
     "text": [
      "There are 32 IDs involved in flagged transactions.\n"
     ]
    }
   ],
   "source": [
    "print(\"There are {} IDs involved in flagged transactions.\".format(\n",
    "    len(\n",
    "        set(\n",
    "            list(df[df.is_flagged_fraud == 1].customer.unique()) +\n",
    "            list(df[df.is_flagged_fraud == 1].recipient.unique())))))"
   ]
  },
  {
   "cell_type": "code",
   "execution_count": 233,
   "metadata": {},
   "outputs": [],
   "source": [
    "# Get all IDs with fraud activity\n",
    "\n",
    "IDs_with_fraud = list(\n",
    "    set(\n",
    "        list(df.query(\"is_fraud ==1\").customer.unique()) +\n",
    "        list(df.query(\"is_fraud ==1\").recipient.unique())))"
   ]
  },
  {
   "cell_type": "code",
   "execution_count": 7,
   "metadata": {},
   "outputs": [],
   "source": [
    "# def check_history(idx, ID, s, c=1):\n",
    "#     df_ID = df[(df.customer==ID)| (df.recipient==ID)]\n",
    "#     for i in range(len(df_ID)):\n",
    "#         if (s > df_ID.step.iloc[i]) & (df_ID.is_fraud.iloc[i]==1):\n",
    "#             if c==1:\n",
    "#                 df.at[idx,\"customer_with_history\"] = 1\n",
    "#             else:\n",
    "#                 df.at[idx,\"recipient_with_history\"] = 1\n",
    "#             break\n",
    "#         else:\n",
    "#             continue"
   ]
  },
  {
   "cell_type": "code",
   "execution_count": 234,
   "metadata": {},
   "outputs": [],
   "source": [
    "# for i in tqdm(IDs_with_fraud):\n",
    "#     for idx, s in dict(\n",
    "#             zip(\n",
    "#                 df[(df.customer == i) |\n",
    "#                    (df.recipient == i)].index,\n",
    "#                 df[(df.customer == i) |\n",
    "#                    (df.recipient == i)].step.values)).items():\n",
    "#         check_history(idx, i, s, c=1)\n",
    "#         check_history(idx, i, s, c=0)"
   ]
  },
  {
   "cell_type": "code",
   "execution_count": 235,
   "metadata": {},
   "outputs": [],
   "source": [
    "# pickle.dump(df, open(\"fraud_v1.pkl\", \"wb\"))\n",
    "# df = pickle.load(open(\"fraud_v1.pkl\", \"rb\"))\n",
    "# df.head()"
   ]
  },
  {
   "cell_type": "code",
   "execution_count": 236,
   "metadata": {},
   "outputs": [],
   "source": [
    "# df[\"with_history\"] = df[\"customer_with_history\"] + df[\"recipient_with_history\"]\n",
    "# df.fillna(0, inplace=True)\n",
    "# df.isnull().sum()"
   ]
  },
  {
   "cell_type": "code",
   "execution_count": 237,
   "metadata": {},
   "outputs": [],
   "source": [
    "# print(\"There are {} transactions where customer IDs have had fraud history but was not flagged as fraud.\".\n",
    "#       format(\n",
    "#           df.query(\n",
    "#               \"customer_with_history == 1 & is_flagged_fraud == 0\").shape[0]))\n",
    "\n",
    "# print(\"There are {} transactions where customer IDs have had fraud history but was not flagged as fraud.\".\n",
    "#       format(\n",
    "#           df.query(\n",
    "#               \"customer_with_history == 1 & is_flagged_fraud == 0\").shape[0]))"
   ]
  },
  {
   "cell_type": "markdown",
   "metadata": {},
   "source": [
    "## customer_old_balance, customer_new_balance, recipient_old_balance, recipient_new_balance"
   ]
  },
  {
   "cell_type": "markdown",
   "metadata": {},
   "source": [
    "Let's have a look at transactions with zero customer_old_balance and recipient_new_balance and check for imbalance."
   ]
  },
  {
   "cell_type": "code",
   "execution_count": 378,
   "metadata": {},
   "outputs": [
    {
     "data": {
      "text/html": [
       "<div>\n",
       "<style scoped>\n",
       "    .dataframe tbody tr th:only-of-type {\n",
       "        vertical-align: middle;\n",
       "    }\n",
       "\n",
       "    .dataframe tbody tr th {\n",
       "        vertical-align: top;\n",
       "    }\n",
       "\n",
       "    .dataframe thead th {\n",
       "        text-align: right;\n",
       "    }\n",
       "</style>\n",
       "<table border=\"1\" class=\"dataframe\">\n",
       "  <thead>\n",
       "    <tr style=\"text-align: right;\">\n",
       "      <th></th>\n",
       "      <th>step</th>\n",
       "      <th>type</th>\n",
       "      <th>amount</th>\n",
       "      <th>customer</th>\n",
       "      <th>customer_old_balance</th>\n",
       "      <th>customer_new_balance</th>\n",
       "      <th>recipient</th>\n",
       "      <th>recipient_old_balance</th>\n",
       "      <th>recipient_new_balance</th>\n",
       "      <th>is_fraud</th>\n",
       "      <th>is_flagged_fraud</th>\n",
       "      <th>customer_check_balance</th>\n",
       "      <th>recipient_check_balance</th>\n",
       "      <th>check_balance</th>\n",
       "    </tr>\n",
       "  </thead>\n",
       "  <tbody>\n",
       "    <tr>\n",
       "      <td>0</td>\n",
       "      <td>1</td>\n",
       "      <td>PAYMENT</td>\n",
       "      <td>9839.64</td>\n",
       "      <td>C1231006815</td>\n",
       "      <td>170136.00</td>\n",
       "      <td>160296.36</td>\n",
       "      <td>M1979787155</td>\n",
       "      <td>0.00</td>\n",
       "      <td>0.00</td>\n",
       "      <td>0</td>\n",
       "      <td>0</td>\n",
       "      <td>0.00</td>\n",
       "      <td>-9840.00</td>\n",
       "      <td>-9840.00</td>\n",
       "    </tr>\n",
       "    <tr>\n",
       "      <td>1</td>\n",
       "      <td>1</td>\n",
       "      <td>PAYMENT</td>\n",
       "      <td>1864.28</td>\n",
       "      <td>C1666544295</td>\n",
       "      <td>21249.00</td>\n",
       "      <td>19384.72</td>\n",
       "      <td>M2044282225</td>\n",
       "      <td>0.00</td>\n",
       "      <td>0.00</td>\n",
       "      <td>0</td>\n",
       "      <td>0</td>\n",
       "      <td>0.00</td>\n",
       "      <td>-1864.00</td>\n",
       "      <td>-1864.00</td>\n",
       "    </tr>\n",
       "    <tr>\n",
       "      <td>2</td>\n",
       "      <td>1</td>\n",
       "      <td>TRANSFER</td>\n",
       "      <td>181.00</td>\n",
       "      <td>C1305486145</td>\n",
       "      <td>181.00</td>\n",
       "      <td>0.00</td>\n",
       "      <td>C553264065</td>\n",
       "      <td>0.00</td>\n",
       "      <td>0.00</td>\n",
       "      <td>1</td>\n",
       "      <td>0</td>\n",
       "      <td>0.00</td>\n",
       "      <td>-181.00</td>\n",
       "      <td>-181.00</td>\n",
       "    </tr>\n",
       "    <tr>\n",
       "      <td>3</td>\n",
       "      <td>1</td>\n",
       "      <td>CASH_OUT</td>\n",
       "      <td>181.00</td>\n",
       "      <td>C840083671</td>\n",
       "      <td>181.00</td>\n",
       "      <td>0.00</td>\n",
       "      <td>C38997010</td>\n",
       "      <td>21182.00</td>\n",
       "      <td>0.00</td>\n",
       "      <td>1</td>\n",
       "      <td>0</td>\n",
       "      <td>0.00</td>\n",
       "      <td>-21363.00</td>\n",
       "      <td>-21363.00</td>\n",
       "    </tr>\n",
       "    <tr>\n",
       "      <td>4</td>\n",
       "      <td>1</td>\n",
       "      <td>PAYMENT</td>\n",
       "      <td>11668.14</td>\n",
       "      <td>C2048537720</td>\n",
       "      <td>41554.00</td>\n",
       "      <td>29885.86</td>\n",
       "      <td>M1230701703</td>\n",
       "      <td>0.00</td>\n",
       "      <td>0.00</td>\n",
       "      <td>0</td>\n",
       "      <td>0</td>\n",
       "      <td>0.00</td>\n",
       "      <td>-11668.00</td>\n",
       "      <td>-11668.00</td>\n",
       "    </tr>\n",
       "  </tbody>\n",
       "</table>\n",
       "</div>"
      ],
      "text/plain": [
       "   step      type   amount     customer  customer_old_balance  \\\n",
       "0  1     PAYMENT  9839.64   C1231006815 170136.00               \n",
       "1  1     PAYMENT  1864.28   C1666544295 21249.00                \n",
       "2  1     TRANSFER 181.00    C1305486145 181.00                  \n",
       "3  1     CASH_OUT 181.00    C840083671  181.00                  \n",
       "4  1     PAYMENT  11668.14  C2048537720 41554.00                \n",
       "\n",
       "   customer_new_balance    recipient  recipient_old_balance  \\\n",
       "0 160296.36              M1979787155 0.00                     \n",
       "1 19384.72               M2044282225 0.00                     \n",
       "2 0.00                   C553264065  0.00                     \n",
       "3 0.00                   C38997010   21182.00                 \n",
       "4 29885.86               M1230701703 0.00                     \n",
       "\n",
       "   recipient_new_balance  is_fraud  is_flagged_fraud  customer_check_balance  \\\n",
       "0 0.00                    0         0                0.00                      \n",
       "1 0.00                    0         0                0.00                      \n",
       "2 0.00                    1         0                0.00                      \n",
       "3 0.00                    1         0                0.00                      \n",
       "4 0.00                    0         0                0.00                      \n",
       "\n",
       "   recipient_check_balance  check_balance  \n",
       "0 -9840.00                 -9840.00        \n",
       "1 -1864.00                 -1864.00        \n",
       "2 -181.00                  -181.00         \n",
       "3 -21363.00                -21363.00       \n",
       "4 -11668.00                -11668.00       "
      ]
     },
     "execution_count": 378,
     "metadata": {},
     "output_type": "execute_result"
    }
   ],
   "source": [
    "df[\"customer_check_balance\"] = round(df[\"customer_new_balance\"] - (df[\"customer_old_balance\"] - df[\"amount\"]), 0)\n",
    "df[\"recipient_check_balance\"] = round(df[\"recipient_new_balance\"] - (df[\"recipient_old_balance\"] + df[\"amount\"]), 0)\n",
    "df[\"check_balance\"] = df[\"customer_check_balance\"] + df[\"recipient_check_balance\"]\n",
    "df.head()"
   ]
  },
  {
   "cell_type": "code",
   "execution_count": 379,
   "metadata": {
    "scrolled": true
   },
   "outputs": [
    {
     "data": {
      "text/html": [
       "<div>\n",
       "<style scoped>\n",
       "    .dataframe tbody tr th:only-of-type {\n",
       "        vertical-align: middle;\n",
       "    }\n",
       "\n",
       "    .dataframe tbody tr th {\n",
       "        vertical-align: top;\n",
       "    }\n",
       "\n",
       "    .dataframe thead th {\n",
       "        text-align: right;\n",
       "    }\n",
       "</style>\n",
       "<table border=\"1\" class=\"dataframe\">\n",
       "  <thead>\n",
       "    <tr style=\"text-align: right;\">\n",
       "      <th></th>\n",
       "      <th>count</th>\n",
       "      <th>mean</th>\n",
       "      <th>std</th>\n",
       "      <th>min</th>\n",
       "      <th>25%</th>\n",
       "      <th>50%</th>\n",
       "      <th>75%</th>\n",
       "      <th>max</th>\n",
       "    </tr>\n",
       "  </thead>\n",
       "  <tbody>\n",
       "    <tr>\n",
       "      <td>customer_new_balance</td>\n",
       "      <td>6362620.00</td>\n",
       "      <td>855113.67</td>\n",
       "      <td>2924048.50</td>\n",
       "      <td>0.00</td>\n",
       "      <td>0.00</td>\n",
       "      <td>0.00</td>\n",
       "      <td>144258.41</td>\n",
       "      <td>49585040.37</td>\n",
       "    </tr>\n",
       "    <tr>\n",
       "      <td>customer_old_balance</td>\n",
       "      <td>6362620.00</td>\n",
       "      <td>833883.10</td>\n",
       "      <td>2888242.67</td>\n",
       "      <td>0.00</td>\n",
       "      <td>0.00</td>\n",
       "      <td>14208.00</td>\n",
       "      <td>107315.18</td>\n",
       "      <td>59585040.37</td>\n",
       "    </tr>\n",
       "    <tr>\n",
       "      <td>customer_check_balance</td>\n",
       "      <td>6362620.00</td>\n",
       "      <td>201092.47</td>\n",
       "      <td>606650.46</td>\n",
       "      <td>0.00</td>\n",
       "      <td>2954.00</td>\n",
       "      <td>68677.00</td>\n",
       "      <td>249641.25</td>\n",
       "      <td>92445517.00</td>\n",
       "    </tr>\n",
       "    <tr>\n",
       "      <td>recipient_new_balance</td>\n",
       "      <td>6362620.00</td>\n",
       "      <td>1224996.40</td>\n",
       "      <td>3674128.94</td>\n",
       "      <td>0.00</td>\n",
       "      <td>0.00</td>\n",
       "      <td>214661.44</td>\n",
       "      <td>1111909.25</td>\n",
       "      <td>356179278.92</td>\n",
       "    </tr>\n",
       "    <tr>\n",
       "      <td>recipient_old_balance</td>\n",
       "      <td>6362620.00</td>\n",
       "      <td>1100701.67</td>\n",
       "      <td>3399180.11</td>\n",
       "      <td>0.00</td>\n",
       "      <td>0.00</td>\n",
       "      <td>132705.66</td>\n",
       "      <td>943036.71</td>\n",
       "      <td>356015889.35</td>\n",
       "    </tr>\n",
       "    <tr>\n",
       "      <td>recipient_check_balance</td>\n",
       "      <td>6362620.00</td>\n",
       "      <td>-55567.17</td>\n",
       "      <td>441528.77</td>\n",
       "      <td>-13191234.00</td>\n",
       "      <td>-29353.00</td>\n",
       "      <td>-3500.00</td>\n",
       "      <td>0.00</td>\n",
       "      <td>75885726.00</td>\n",
       "    </tr>\n",
       "  </tbody>\n",
       "</table>\n",
       "</div>"
      ],
      "text/plain": [
       "                             count       mean        std          min  \\\n",
       "customer_new_balance    6362620.00 855113.67  2924048.50 0.00           \n",
       "customer_old_balance    6362620.00 833883.10  2888242.67 0.00           \n",
       "customer_check_balance  6362620.00 201092.47  606650.46  0.00           \n",
       "recipient_new_balance   6362620.00 1224996.40 3674128.94 0.00           \n",
       "recipient_old_balance   6362620.00 1100701.67 3399180.11 0.00           \n",
       "recipient_check_balance 6362620.00 -55567.17  441528.77  -13191234.00   \n",
       "\n",
       "                              25%       50%        75%          max  \n",
       "customer_new_balance    0.00      0.00      144258.41  49585040.37   \n",
       "customer_old_balance    0.00      14208.00  107315.18  59585040.37   \n",
       "customer_check_balance  2954.00   68677.00  249641.25  92445517.00   \n",
       "recipient_new_balance   0.00      214661.44 1111909.25 356179278.92  \n",
       "recipient_old_balance   0.00      132705.66 943036.71  356015889.35  \n",
       "recipient_check_balance -29353.00 -3500.00  0.00       75885726.00   "
      ]
     },
     "execution_count": 379,
     "metadata": {},
     "output_type": "execute_result"
    }
   ],
   "source": [
    "df[[\n",
    "    \"customer_new_balance\", \"customer_old_balance\", \"customer_check_balance\",\n",
    "    \"recipient_new_balance\", \"recipient_old_balance\", \"recipient_check_balance\"\n",
    "]].describe().T"
   ]
  },
  {
   "cell_type": "code",
   "execution_count": 291,
   "metadata": {},
   "outputs": [
    {
     "data": {
      "text/html": [
       "<div>\n",
       "<style scoped>\n",
       "    .dataframe tbody tr th:only-of-type {\n",
       "        vertical-align: middle;\n",
       "    }\n",
       "\n",
       "    .dataframe tbody tr th {\n",
       "        vertical-align: top;\n",
       "    }\n",
       "\n",
       "    .dataframe thead th {\n",
       "        text-align: right;\n",
       "    }\n",
       "</style>\n",
       "<table border=\"1\" class=\"dataframe\">\n",
       "  <thead>\n",
       "    <tr style=\"text-align: right;\">\n",
       "      <th></th>\n",
       "      <th>step</th>\n",
       "      <th>type</th>\n",
       "      <th>amount</th>\n",
       "      <th>customer</th>\n",
       "      <th>customer_old_balance</th>\n",
       "      <th>customer_new_balance</th>\n",
       "      <th>recipient</th>\n",
       "      <th>recipient_old_balance</th>\n",
       "      <th>recipient_new_balance</th>\n",
       "      <th>is_fraud</th>\n",
       "      <th>is_flagged_fraud</th>\n",
       "      <th>customer_check_balance</th>\n",
       "      <th>recipient_check_balance</th>\n",
       "      <th>check_balance</th>\n",
       "    </tr>\n",
       "  </thead>\n",
       "  <tbody>\n",
       "    <tr>\n",
       "      <td>4340</td>\n",
       "      <td>4</td>\n",
       "      <td>CASH_IN</td>\n",
       "      <td>130407.77</td>\n",
       "      <td>C1983472905</td>\n",
       "      <td>5347521.57</td>\n",
       "      <td>5477929.34</td>\n",
       "      <td>C1122118227</td>\n",
       "      <td>1.306083e+07</td>\n",
       "      <td>0.000000e+00</td>\n",
       "      <td>0</td>\n",
       "      <td>0</td>\n",
       "      <td>260816.0</td>\n",
       "      <td>-13191234.0</td>\n",
       "      <td>-12930418.0</td>\n",
       "    </tr>\n",
       "    <tr>\n",
       "      <td>2736440</td>\n",
       "      <td>212</td>\n",
       "      <td>TRANSFER</td>\n",
       "      <td>10000000.00</td>\n",
       "      <td>C1531278091</td>\n",
       "      <td>34953893.08</td>\n",
       "      <td>24953893.08</td>\n",
       "      <td>C972530514</td>\n",
       "      <td>0.000000e+00</td>\n",
       "      <td>0.000000e+00</td>\n",
       "      <td>1</td>\n",
       "      <td>0</td>\n",
       "      <td>0.0</td>\n",
       "      <td>-10000000.0</td>\n",
       "      <td>-10000000.0</td>\n",
       "    </tr>\n",
       "    <tr>\n",
       "      <td>5987922</td>\n",
       "      <td>411</td>\n",
       "      <td>TRANSFER</td>\n",
       "      <td>10000000.00</td>\n",
       "      <td>C179802055</td>\n",
       "      <td>12068313.94</td>\n",
       "      <td>2068313.94</td>\n",
       "      <td>C845099418</td>\n",
       "      <td>0.000000e+00</td>\n",
       "      <td>0.000000e+00</td>\n",
       "      <td>1</td>\n",
       "      <td>0</td>\n",
       "      <td>0.0</td>\n",
       "      <td>-10000000.0</td>\n",
       "      <td>-10000000.0</td>\n",
       "    </tr>\n",
       "    <tr>\n",
       "      <td>6205437</td>\n",
       "      <td>586</td>\n",
       "      <td>TRANSFER</td>\n",
       "      <td>10000000.00</td>\n",
       "      <td>C1198427314</td>\n",
       "      <td>10353874.22</td>\n",
       "      <td>353874.22</td>\n",
       "      <td>C532935388</td>\n",
       "      <td>0.000000e+00</td>\n",
       "      <td>0.000000e+00</td>\n",
       "      <td>1</td>\n",
       "      <td>0</td>\n",
       "      <td>-0.0</td>\n",
       "      <td>-10000000.0</td>\n",
       "      <td>-10000000.0</td>\n",
       "    </tr>\n",
       "    <tr>\n",
       "      <td>5988245</td>\n",
       "      <td>414</td>\n",
       "      <td>TRANSFER</td>\n",
       "      <td>10000000.00</td>\n",
       "      <td>C1713766678</td>\n",
       "      <td>10724264.21</td>\n",
       "      <td>724264.21</td>\n",
       "      <td>C499919262</td>\n",
       "      <td>0.000000e+00</td>\n",
       "      <td>0.000000e+00</td>\n",
       "      <td>1</td>\n",
       "      <td>0</td>\n",
       "      <td>-0.0</td>\n",
       "      <td>-10000000.0</td>\n",
       "      <td>-10000000.0</td>\n",
       "    </tr>\n",
       "    <tr>\n",
       "      <td>...</td>\n",
       "      <td>...</td>\n",
       "      <td>...</td>\n",
       "      <td>...</td>\n",
       "      <td>...</td>\n",
       "      <td>...</td>\n",
       "      <td>...</td>\n",
       "      <td>...</td>\n",
       "      <td>...</td>\n",
       "      <td>...</td>\n",
       "      <td>...</td>\n",
       "      <td>...</td>\n",
       "      <td>...</td>\n",
       "      <td>...</td>\n",
       "      <td>...</td>\n",
       "    </tr>\n",
       "    <tr>\n",
       "      <td>4131403</td>\n",
       "      <td>302</td>\n",
       "      <td>TRANSFER</td>\n",
       "      <td>35894320.06</td>\n",
       "      <td>C2027396203</td>\n",
       "      <td>0.00</td>\n",
       "      <td>0.00</td>\n",
       "      <td>C1406193485</td>\n",
       "      <td>1.503281e+08</td>\n",
       "      <td>2.362512e+08</td>\n",
       "      <td>0</td>\n",
       "      <td>0</td>\n",
       "      <td>35894320.0</td>\n",
       "      <td>50028785.0</td>\n",
       "      <td>85923105.0</td>\n",
       "    </tr>\n",
       "    <tr>\n",
       "      <td>3686583</td>\n",
       "      <td>276</td>\n",
       "      <td>TRANSFER</td>\n",
       "      <td>92445516.64</td>\n",
       "      <td>C1715283297</td>\n",
       "      <td>0.00</td>\n",
       "      <td>0.00</td>\n",
       "      <td>C439737079</td>\n",
       "      <td>9.595980e+03</td>\n",
       "      <td>9.245511e+07</td>\n",
       "      <td>0</td>\n",
       "      <td>0</td>\n",
       "      <td>92445517.0</td>\n",
       "      <td>0.0</td>\n",
       "      <td>92445517.0</td>\n",
       "    </tr>\n",
       "    <tr>\n",
       "      <td>3963647</td>\n",
       "      <td>297</td>\n",
       "      <td>TRANSFER</td>\n",
       "      <td>23496309.32</td>\n",
       "      <td>C515885166</td>\n",
       "      <td>0.00</td>\n",
       "      <td>0.00</td>\n",
       "      <td>C707403537</td>\n",
       "      <td>2.123595e+08</td>\n",
       "      <td>3.114049e+08</td>\n",
       "      <td>0</td>\n",
       "      <td>0</td>\n",
       "      <td>23496309.0</td>\n",
       "      <td>75549141.0</td>\n",
       "      <td>99045450.0</td>\n",
       "    </tr>\n",
       "    <tr>\n",
       "      <td>3892529</td>\n",
       "      <td>284</td>\n",
       "      <td>TRANSFER</td>\n",
       "      <td>64234448.19</td>\n",
       "      <td>C1139847449</td>\n",
       "      <td>0.00</td>\n",
       "      <td>0.00</td>\n",
       "      <td>C65111466</td>\n",
       "      <td>6.597691e+07</td>\n",
       "      <td>1.663021e+08</td>\n",
       "      <td>0</td>\n",
       "      <td>0</td>\n",
       "      <td>64234448.0</td>\n",
       "      <td>36090712.0</td>\n",
       "      <td>100325160.0</td>\n",
       "    </tr>\n",
       "    <tr>\n",
       "      <td>4136960</td>\n",
       "      <td>303</td>\n",
       "      <td>TRANSFER</td>\n",
       "      <td>29802113.19</td>\n",
       "      <td>C1289440255</td>\n",
       "      <td>550210.01</td>\n",
       "      <td>0.00</td>\n",
       "      <td>C1496190878</td>\n",
       "      <td>4.857447e+07</td>\n",
       "      <td>1.542623e+08</td>\n",
       "      <td>0</td>\n",
       "      <td>0</td>\n",
       "      <td>29251903.0</td>\n",
       "      <td>75885726.0</td>\n",
       "      <td>105137629.0</td>\n",
       "    </tr>\n",
       "  </tbody>\n",
       "</table>\n",
       "<p>4280966 rows × 14 columns</p>\n",
       "</div>"
      ],
      "text/plain": [
       "         step      type       amount     customer  customer_old_balance  \\\n",
       "4340     4     CASH_IN   130407.77    C1983472905  5347521.57             \n",
       "2736440  212   TRANSFER  10000000.00  C1531278091  34953893.08            \n",
       "5987922  411   TRANSFER  10000000.00  C179802055   12068313.94            \n",
       "6205437  586   TRANSFER  10000000.00  C1198427314  10353874.22            \n",
       "5988245  414   TRANSFER  10000000.00  C1713766678  10724264.21            \n",
       "...      ...        ...          ...          ...          ...            \n",
       "4131403  302   TRANSFER  35894320.06  C2027396203  0.00                   \n",
       "3686583  276   TRANSFER  92445516.64  C1715283297  0.00                   \n",
       "3963647  297   TRANSFER  23496309.32  C515885166   0.00                   \n",
       "3892529  284   TRANSFER  64234448.19  C1139847449  0.00                   \n",
       "4136960  303   TRANSFER  29802113.19  C1289440255  550210.01              \n",
       "\n",
       "         customer_new_balance    recipient  recipient_old_balance  \\\n",
       "4340     5477929.34            C1122118227  1.306083e+07            \n",
       "2736440  24953893.08           C972530514   0.000000e+00            \n",
       "5987922  2068313.94            C845099418   0.000000e+00            \n",
       "6205437  353874.22             C532935388   0.000000e+00            \n",
       "5988245  724264.21             C499919262   0.000000e+00            \n",
       "...            ...                    ...            ...            \n",
       "4131403  0.00                  C1406193485  1.503281e+08            \n",
       "3686583  0.00                  C439737079   9.595980e+03            \n",
       "3963647  0.00                  C707403537   2.123595e+08            \n",
       "3892529  0.00                  C65111466    6.597691e+07            \n",
       "4136960  0.00                  C1496190878  4.857447e+07            \n",
       "\n",
       "         recipient_new_balance  is_fraud  is_flagged_fraud  \\\n",
       "4340     0.000000e+00           0         0                  \n",
       "2736440  0.000000e+00           1         0                  \n",
       "5987922  0.000000e+00           1         0                  \n",
       "6205437  0.000000e+00           1         0                  \n",
       "5988245  0.000000e+00           1         0                  \n",
       "...               ...          ..        ..                  \n",
       "4131403  2.362512e+08           0         0                  \n",
       "3686583  9.245511e+07           0         0                  \n",
       "3963647  3.114049e+08           0         0                  \n",
       "3892529  1.663021e+08           0         0                  \n",
       "4136960  1.542623e+08           0         0                  \n",
       "\n",
       "         customer_check_balance  recipient_check_balance  check_balance  \n",
       "4340     260816.0               -13191234.0              -12930418.0     \n",
       "2736440  0.0                    -10000000.0              -10000000.0     \n",
       "5987922  0.0                    -10000000.0              -10000000.0     \n",
       "6205437 -0.0                    -10000000.0              -10000000.0     \n",
       "5988245 -0.0                    -10000000.0              -10000000.0     \n",
       "...      ...                            ...                      ...     \n",
       "4131403  35894320.0              50028785.0               85923105.0     \n",
       "3686583  92445517.0              0.0                      92445517.0     \n",
       "3963647  23496309.0              75549141.0               99045450.0     \n",
       "3892529  64234448.0              36090712.0               100325160.0    \n",
       "4136960  29251903.0              75885726.0               105137629.0    \n",
       "\n",
       "[4280966 rows x 14 columns]"
      ]
     },
     "execution_count": 291,
     "metadata": {},
     "output_type": "execute_result"
    }
   ],
   "source": [
    "df[df.check_balance!=0].sort_values([\"check_balance\"])"
   ]
  },
  {
   "cell_type": "code",
   "execution_count": 383,
   "metadata": {},
   "outputs": [
    {
     "data": {
      "image/png": "[encoded data removed]",
      "text/plain": [
       "<Figure size 576x432 with 1 Axes>"
      ]
     },
     "metadata": {
      "needs_background": "light"
     },
     "output_type": "display_data"
    }
   ],
   "source": [
    "temp = df[df.check_balance == 0].groupby(\n",
    "    [\"is_fraud\"]).count().reset_index().sort_values(\"step\", ascending=False)\n",
    "\n",
    "fig = plt.figure(figsize=(8, 6))\n",
    "\n",
    "graph = plt.bar(temp.is_fraud, temp.step, color=\"red\", alpha=0.7)\n",
    "\n",
    "plt.title(\"How many transactions did not go through?\")\n",
    "plt.ylabel(\"transaction count (000's)\")\n",
    "plt.yticks(range(0, 3000000, 500000), range(0, 3000, 500))\n",
    "plt.xticks([0, 1], [\"Non-Fraud\", \"Fraud\"])\n",
    "\n",
    "for bar, x in zip(graph, temp.step.values):\n",
    "    plt.text(bar.get_x() + bar.get_width() / 2,\n",
    "             bar.get_height(),\n",
    "             \"{} ({}%)\".format(\n",
    "                 x, round(x / len(df[df.check_balance == 0]) * 100, 2)),\n",
    "             fontsize=20,\n",
    "             ha=\"center\",\n",
    "             va=\"bottom\")\n",
    "\n",
    "plt.show()"
   ]
  },
  {
   "cell_type": "code",
   "execution_count": 270,
   "metadata": {},
   "outputs": [
    {
     "data": {
      "image/png": "[encoded data removed]",
      "text/plain": [
       "<Figure size 1440x720 with 1 Axes>"
      ]
     },
     "metadata": {
      "needs_background": "light"
     },
     "output_type": "display_data"
    }
   ],
   "source": [
    "fig = plt.figure(figsize=(20, 10))\n",
    "plt.scatter(df[df.is_fraud==1].customer_check_balance,\n",
    "            df[df.is_fraud==1].amount,\n",
    "            s=50,\n",
    "           color=\"red\",\n",
    "           alpha=0.5)\n",
    "plt.xlabel(\"customer imbalance ($000's)\")\n",
    "plt.xticks(range(0, 11000000, 1000000), range(0, 11000, 1000))\n",
    "plt.ylabel(\"transaction amount ($000's)\")\n",
    "plt.yticks(range(0, 11000000, 1000000), range(0, 11000, 1000))\n",
    "plt.show()"
   ]
  },
  {
   "cell_type": "markdown",
   "metadata": {},
   "source": [
    "## is_flagged_fraud"
   ]
  },
  {
   "cell_type": "markdown",
   "metadata": {},
   "source": [
    "There are only 16 transactions that were flagged in this dataset. If we were to follow the definition provided above, there should be 1673570 flagged transactions."
   ]
  },
  {
   "cell_type": "code",
   "execution_count": 330,
   "metadata": {
    "scrolled": true
   },
   "outputs": [
    {
     "data": {
      "image/png": "[encoded data removed]",
      "text/plain": [
       "<Figure size 720x504 with 1 Axes>"
      ]
     },
     "metadata": {
      "needs_background": "light"
     },
     "output_type": "display_data"
    }
   ],
   "source": [
    "fig = plt.figure(figsize=(10, 7))\n",
    "\n",
    "graph = plt.bar(df.groupby([\"is_flagged_fraud\"]).count().reset_index().is_flagged_fraud,\n",
    "                df.groupby([\"is_flagged_fraud\"]).count().reset_index().step,\n",
    "                color=\"#76a973\")\n",
    "\n",
    "plt.title(\"How many transactions were flagged as fradulent?\", fontsize=20)\n",
    "plt.ylabel(\"transaction count (000's)\")\n",
    "plt.yticks(range(0, 8000000, 1000000), range(0, 8000, 1000))\n",
    "plt.xticks([0, 1], [\"Not Flagged\", \"Flagged\"])\n",
    "\n",
    "for bar, x in zip(graph,\n",
    "                  df.groupby([\"is_flagged_fraud\"]).count().reset_index().step.values):\n",
    "    plt.text(bar.get_x() + bar.get_width() / 2.0,\n",
    "             bar.get_height(),\n",
    "             \"{} ({}%)\".format(x, round(x/len(df)*100,2)),\n",
    "             fontsize=20,\n",
    "             ha='center',\n",
    "             va='bottom')\n",
    "\n",
    "plt.show()"
   ]
  },
  {
   "cell_type": "code",
   "execution_count": 337,
   "metadata": {},
   "outputs": [],
   "source": []
  },
  {
   "cell_type": "code",
   "execution_count": 338,
   "metadata": {},
   "outputs": [
    {
     "data": {
      "text/html": [
       "<div>\n",
       "<style scoped>\n",
       "    .dataframe tbody tr th:only-of-type {\n",
       "        vertical-align: middle;\n",
       "    }\n",
       "\n",
       "    .dataframe tbody tr th {\n",
       "        vertical-align: top;\n",
       "    }\n",
       "\n",
       "    .dataframe thead tr th {\n",
       "        text-align: left;\n",
       "    }\n",
       "</style>\n",
       "<table border=\"1\" class=\"dataframe\">\n",
       "  <thead>\n",
       "    <tr>\n",
       "      <th></th>\n",
       "      <th colspan=\"2\" halign=\"left\">amount</th>\n",
       "    </tr>\n",
       "    <tr>\n",
       "      <th>is_flagged_fraud</th>\n",
       "      <th>0</th>\n",
       "      <th>1</th>\n",
       "    </tr>\n",
       "  </thead>\n",
       "  <tbody>\n",
       "    <tr>\n",
       "      <td>count</td>\n",
       "      <td>6362604.00</td>\n",
       "      <td>16.00</td>\n",
       "    </tr>\n",
       "    <tr>\n",
       "      <td>mean</td>\n",
       "      <td>179850.13</td>\n",
       "      <td>4861597.73</td>\n",
       "    </tr>\n",
       "    <tr>\n",
       "      <td>std</td>\n",
       "      <td>603788.43</td>\n",
       "      <td>3572499.10</td>\n",
       "    </tr>\n",
       "    <tr>\n",
       "      <td>min</td>\n",
       "      <td>0.00</td>\n",
       "      <td>353874.22</td>\n",
       "    </tr>\n",
       "    <tr>\n",
       "      <td>25%</td>\n",
       "      <td>13389.55</td>\n",
       "      <td>2242748.72</td>\n",
       "    </tr>\n",
       "    <tr>\n",
       "      <td>50%</td>\n",
       "      <td>74871.27</td>\n",
       "      <td>4234245.09</td>\n",
       "    </tr>\n",
       "    <tr>\n",
       "      <td>75%</td>\n",
       "      <td>208720.47</td>\n",
       "      <td>7883451.38</td>\n",
       "    </tr>\n",
       "    <tr>\n",
       "      <td>max</td>\n",
       "      <td>92445516.64</td>\n",
       "      <td>10000000.00</td>\n",
       "    </tr>\n",
       "  </tbody>\n",
       "</table>\n",
       "</div>"
      ],
      "text/plain": [
       "                      amount            \n",
       "is_flagged_fraud           0           1\n",
       "count            6362604.00  16.00      \n",
       "mean             179850.13   4861597.73 \n",
       "std              603788.43   3572499.10 \n",
       "min              0.00        353874.22  \n",
       "25%              13389.55    2242748.72 \n",
       "50%              74871.27    4234245.09 \n",
       "75%              208720.47   7883451.38 \n",
       "max              92445516.64 10000000.00"
      ]
     },
     "execution_count": 338,
     "metadata": {},
     "output_type": "execute_result"
    }
   ],
   "source": [
    "df[[\"amount\", \"is_flagged_fraud\"\n",
    "    ]].pivot(columns=\"is_flagged_fraud\").describe()"
   ]
  },
  {
   "cell_type": "code",
   "execution_count": 331,
   "metadata": {},
   "outputs": [
    {
     "data": {
      "image/png": "[encoded data removed]",
      "text/plain": [
       "<Figure size 720x504 with 1 Axes>"
      ]
     },
     "metadata": {
      "needs_background": "light"
     },
     "output_type": "display_data"
    }
   ],
   "source": [
    "to_graph = df[df.is_fraud==1].groupby([\"is_flagged_fraud\"]).count().reset_index()\n",
    "fig = plt.figure(figsize=(10, 7))\n",
    "\n",
    "graph = plt.bar(to_graph.is_flagged_fraud,\n",
    "                to_graph.step,\n",
    "                color=\"red\")\n",
    "\n",
    "plt.title(\"How many fraudulent transactions were flagged?\", fontsize=20)\n",
    "plt.ylabel(\"transaction count (000's)\")\n",
    "plt.yticks(range(0, 10000, 1000))\n",
    "plt.xticks([0, 1], [\"Not Flagged\", \"Flagged\"])\n",
    "\n",
    "for bar, x in zip(graph,\n",
    "                  to_graph.step.values):\n",
    "    plt.text(bar.get_x() + bar.get_width() / 2.0,\n",
    "             bar.get_height(),\n",
    "             \"{} ({}%)\".format(x, round(x/len(df[df.is_fraud==1])*100,2)),\n",
    "             fontsize=20,\n",
    "             ha='center',\n",
    "             va='bottom')\n",
    "\n",
    "plt.show()"
   ]
  },
  {
   "cell_type": "code",
   "execution_count": 304,
   "metadata": {},
   "outputs": [
    {
     "name": "stdout",
     "output_type": "stream",
     "text": [
      "There are 1673570 transations above $200K.\n"
     ]
    }
   ],
   "source": [
    "print(\"There are {} transations above $200K.\".format(len(df[df.amount>200000])))"
   ]
  },
  {
   "cell_type": "code",
   "execution_count": 82,
   "metadata": {
    "scrolled": false
   },
   "outputs": [
    {
     "name": "stderr",
     "output_type": "stream",
     "text": [
      "/Applications/anaconda3/envs/learn-env/lib/python3.6/site-packages/statsmodels/nonparametric/kde.py:487: RuntimeWarning: invalid value encountered in true_divide\n",
      "  binned = fast_linbin(X, a, b, gridsize) / (delta * nobs)\n",
      "/Applications/anaconda3/envs/learn-env/lib/python3.6/site-packages/statsmodels/nonparametric/kdetools.py:34: RuntimeWarning: invalid value encountered in double_scalars\n",
      "  FAC1 = 2*(np.pi*bw/RANGE)**2\n"
     ]
    },
    {
     "data": {
      "image/png": "[encoded data removed]",
      "text/plain": [
       "<Figure size 1800x1512 with 5 Axes>"
      ]
     },
     "metadata": {},
     "output_type": "display_data"
    },
    {
     "data": {
      "image/png": "[encoded data removed]",
      "text/plain": [
       "<Figure size 1800x1512 with 5 Axes>"
      ]
     },
     "metadata": {},
     "output_type": "display_data"
    }
   ],
   "source": [
    "r = math.ceil(len(normalised)/2)\n",
    "\n",
    "for key, val in dict(\n",
    "        zip([1, 0],\n",
    "            [\"Flagged as Fraudulent\", \"Not Flagged as Fraudulent\"])).items():\n",
    "    fig = plt.figure(figsize=(25, 7*r))\n",
    "    for i, col in enumerate(normalised):\n",
    "        ax = fig.add_subplot(r, 2, i + 1)\n",
    "        sns.distplot(df.query(\"is_flagged_fraud == @key\")[col])\n",
    "        plt.xlabel(None)\n",
    "        plt.title(col, fontsize=20, color=\"black\")\n",
    "    plt.suptitle(val, fontsize=27, y=0.93, color=\"black\")\n",
    "    plt.show()"
   ]
  },
  {
   "cell_type": "code",
   "execution_count": 88,
   "metadata": {},
   "outputs": [],
   "source": [
    "df = pickle.load(open(\"fraud_v1.pkl\", \"rb\"))"
   ]
  },
  {
   "cell_type": "code",
   "execution_count": 89,
   "metadata": {},
   "outputs": [
    {
     "name": "stdout",
     "output_type": "stream",
     "text": [
      "<class 'pandas.core.frame.DataFrame'>\n",
      "RangeIndex: 6362620 entries, 0 to 6362619\n",
      "Data columns (total 13 columns):\n",
      "step                      6362620 non-null int64\n",
      "type                      6362620 non-null object\n",
      "amount                    6362620 non-null float64\n",
      "customer                  6362620 non-null object\n",
      "customer_old_balance      6362620 non-null float64\n",
      "customer_new_balance      6362620 non-null float64\n",
      "recipient                 6362620 non-null object\n",
      "recipient_old_balance     6362620 non-null float64\n",
      "recipient_new_balance     6362620 non-null float64\n",
      "is_fraud                  6362620 non-null int64\n",
      "is_flagged_fraud          6362620 non-null int64\n",
      "customer_with_history     35626 non-null float64\n",
      "recipient_with_history    35626 non-null float64\n",
      "dtypes: float64(7), int64(3), object(3)\n",
      "memory usage: 631.1+ MB\n"
     ]
    }
   ],
   "source": [
    "df.info(null_counts=True)"
   ]
  },
  {
   "cell_type": "code",
   "execution_count": 100,
   "metadata": {},
   "outputs": [
    {
     "data": {
      "text/plain": [
       "step                      0\n",
       "type                      0\n",
       "amount                    0\n",
       "customer                  0\n",
       "customer_old_balance      0\n",
       "customer_new_balance      0\n",
       "recipient                 0\n",
       "recipient_old_balance     0\n",
       "recipient_new_balance     0\n",
       "is_fraud                  0\n",
       "is_flagged_fraud          0\n",
       "customer_with_history     0\n",
       "recipient_with_history    0\n",
       "dtype: int64"
      ]
     },
     "execution_count": 100,
     "metadata": {},
     "output_type": "execute_result"
    }
   ],
   "source": [
    "df.fillna(0, inplace=True)\n",
    "df.isnull().sum()"
   ]
  },
  {
   "cell_type": "code",
   "execution_count": 101,
   "metadata": {},
   "outputs": [],
   "source": [
    "df[\"with_history\"] = df[\"customer_with_history\"] + df[\"recipient_with_history\"]"
   ]
  },
  {
   "cell_type": "code",
   "execution_count": null,
   "metadata": {},
   "outputs": [],
   "source": [
    "sns."
   ]
  },
  {
   "cell_type": "code",
   "execution_count": null,
   "metadata": {},
   "outputs": [],
   "source": []
  },
  {
   "cell_type": "code",
   "execution_count": null,
   "metadata": {},
   "outputs": [],
   "source": []
  },
  {
   "cell_type": "code",
   "execution_count": 21,
   "metadata": {
    "colab": {
     "base_uri": "https://localhost:8080/",
     "height": 34
    },
    "colab_type": "code",
    "id": "FpZX15btzP19",
    "outputId": "a224160a-ea16-4fbd-a13a-93f4da2dcd17"
   },
   "outputs": [
    {
     "name": "stdout",
     "output_type": "stream",
     "text": [
      "There are 9313 customers appeared more than once.\n"
     ]
    }
   ],
   "source": [
    "print(\"There are {} customers appeared more than once.\".format(\n",
    "    len(df[df.customer.duplicated(keep=\"first\") == True].customer)))"
   ]
  },
  {
   "cell_type": "code",
   "execution_count": 22,
   "metadata": {
    "colab": {
     "base_uri": "https://localhost:8080/",
     "height": 34
    },
    "colab_type": "code",
    "id": "QhLvx6jRz0Z0",
    "outputId": "baf13d93-d454-421b-af35-f9ccfaf5b847"
   },
   "outputs": [
    {
     "name": "stdout",
     "output_type": "stream",
     "text": [
      "There are 3640258 recipients appeared more than once.\n"
     ]
    }
   ],
   "source": [
    "print(\"There are {} recipients appeared more than once.\".format(\n",
    "    len(df[df.recipient.duplicated(keep=\"first\") == True].recipient)))"
   ]
  },
  {
   "cell_type": "code",
   "execution_count": 23,
   "metadata": {
    "colab": {
     "base_uri": "https://localhost:8080/",
     "height": 34
    },
    "colab_type": "code",
    "id": "e8sGNyabID3H",
    "outputId": "49850714-0722-419b-c1ea-abcab4fa541c"
   },
   "outputs": [
    {
     "name": "stdout",
     "output_type": "stream",
     "text": [
      "There are 1769 IDs that are both customer and recipient.\n"
     ]
    }
   ],
   "source": [
    "print(\"There are {} IDs that are both customer and recipient.\".format(\n",
    "    len(\n",
    "        pd.DataFrame(df.customer.unique()).merge(pd.DataFrame(\n",
    "            df.recipient.unique()),\n",
    "                                                 how=\"inner\"))))"
   ]
  },
  {
   "cell_type": "code",
   "execution_count": 24,
   "metadata": {
    "colab": {
     "base_uri": "https://localhost:8080/",
     "height": 34
    },
    "colab_type": "code",
    "id": "osBXXCa40PA7",
    "outputId": "2701fdd3-a091-40f2-fca4-0654ae6a8625"
   },
   "outputs": [
    {
     "name": "stdout",
     "output_type": "stream",
     "text": [
      "There are 0 merchants that initiated transactions.\n"
     ]
    }
   ],
   "source": [
    "print(\"There are {} merchants that initiated transactions.\".format(\n",
    "    len(df[df.customer.str.contains(\"M\")])))"
   ]
  },
  {
   "cell_type": "code",
   "execution_count": 25,
   "metadata": {
    "colab": {
     "base_uri": "https://localhost:8080/",
     "height": 34
    },
    "colab_type": "code",
    "id": "zobnXnhl2dJk",
    "outputId": "5bd832ea-9189-4615-8e08-7aeed4d73bdc"
   },
   "outputs": [
    {
     "name": "stdout",
     "output_type": "stream",
     "text": [
      "There are 2151495 merchants as recipients.\n"
     ]
    }
   ],
   "source": [
    "print(\"There are {} merchants as recipients.\".format(\n",
    "    len(df[df.recipient.str.contains(\"M\")])))"
   ]
  },
  {
   "cell_type": "code",
   "execution_count": 26,
   "metadata": {
    "colab": {
     "base_uri": "https://localhost:8080/",
     "height": 187
    },
    "colab_type": "code",
    "id": "EtPlelv54J4C",
    "outputId": "a116fd37-b0f2-4a69-df12-e332bf479ee3",
    "scrolled": false
   },
   "outputs": [
    {
     "name": "stdout",
     "output_type": "stream",
     "text": [
      "=====Merchant as Recipient=====\n",
      "FEATURE:  type\n",
      "PAYMENT    100.0\n",
      "Name: type, dtype: float64\n",
      "FEATURE:  is_fraud\n",
      "0    100.0\n",
      "Name: is_fraud, dtype: float64\n",
      "FEATURE:  is_flagged_fraud\n",
      "0    100.0\n",
      "Name: is_flagged_fraud, dtype: float64\n"
     ]
    }
   ],
   "source": [
    "cols = [\"type\", \"is_fraud\", \"is_flagged_fraud\"]\n",
    "print(\"=====Merchant as Recipient=====\")\n",
    "for col in cols:\n",
    "    print(\"FEATURE: \", col)\n",
    "    print(df[df.recipient.str.contains(\"M\")][col].value_counts(normalize=True)*100)"
   ]
  },
  {
   "cell_type": "code",
   "execution_count": 9,
   "metadata": {
    "scrolled": true
   },
   "outputs": [],
   "source": [
    "df[\"customer_check_balance\"] = df[\"customer_new_balance\"] - (df[\"customer_old_balance\"] - df[\"amount\"])\n",
    "\n",
    "df[\"recipient_check_balance\"] = df[\"recipient_new_balance\"] - (df[\"recipient_old_balance\"] + df[\"amount\"])"
   ]
  },
  {
   "cell_type": "code",
   "execution_count": 12,
   "metadata": {},
   "outputs": [],
   "source": [
    "pickle.dump(df, open(\"fraud.pkl\", \"wb\"))"
   ]
  },
  {
   "cell_type": "code",
   "execution_count": 29,
   "metadata": {
    "scrolled": true
   },
   "outputs": [
    {
     "name": "stdout",
     "output_type": "stream",
     "text": [
      "<class 'pandas.core.frame.DataFrame'>\n",
      "RangeIndex: 6362620 entries, 0 to 6362619\n",
      "Data columns (total 15 columns):\n",
      "step                       6362620 non-null int64\n",
      "type                       6362620 non-null object\n",
      "amount                     6362620 non-null float64\n",
      "customer                   6362620 non-null object\n",
      "customer_old_balance       6362620 non-null float64\n",
      "customer_new_balance       6362620 non-null float64\n",
      "recipient                  6362620 non-null object\n",
      "recipient_old_balance      6362620 non-null float64\n",
      "recipient_new_balance      6362620 non-null float64\n",
      "is_fraud                   6362620 non-null int64\n",
      "is_flagged_fraud           6362620 non-null int64\n",
      "customer_with_history      35626 non-null float64\n",
      "recipient_with_history     35626 non-null float64\n",
      "customer_check_balance     6362620 non-null float64\n",
      "recipient_check_balance    6362620 non-null float64\n",
      "dtypes: float64(9), int64(3), object(3)\n",
      "memory usage: 728.1+ MB\n"
     ]
    }
   ],
   "source": [
    "df.info(null_counts=True)"
   ]
  },
  {
   "cell_type": "code",
   "execution_count": 429,
   "metadata": {},
   "outputs": [],
   "source": [
    "df.fillna(0, inplace=True)\n",
    "pickle.dump(df, open(\"fraud2.pkl\", \"wb\"))"
   ]
  },
  {
   "cell_type": "code",
   "execution_count": 32,
   "metadata": {},
   "outputs": [
    {
     "name": "stdout",
     "output_type": "stream",
     "text": [
      "<class 'pandas.core.frame.DataFrame'>\n",
      "RangeIndex: 6362620 entries, 0 to 6362619\n",
      "Data columns (total 15 columns):\n",
      "step                       6362620 non-null int64\n",
      "type                       6362620 non-null object\n",
      "amount                     6362620 non-null float64\n",
      "customer                   6362620 non-null object\n",
      "customer_old_balance       6362620 non-null float64\n",
      "customer_new_balance       6362620 non-null float64\n",
      "recipient                  6362620 non-null object\n",
      "recipient_old_balance      6362620 non-null float64\n",
      "recipient_new_balance      6362620 non-null float64\n",
      "is_fraud                   6362620 non-null int64\n",
      "is_flagged_fraud           6362620 non-null int64\n",
      "customer_with_history      6362620 non-null float64\n",
      "recipient_with_history     6362620 non-null float64\n",
      "customer_check_balance     6362620 non-null float64\n",
      "recipient_check_balance    6362620 non-null float64\n",
      "dtypes: float64(9), int64(3), object(3)\n",
      "memory usage: 728.1+ MB\n"
     ]
    }
   ],
   "source": [
    "df.info(null_counts=True)"
   ]
  },
  {
   "cell_type": "code",
   "execution_count": 14,
   "metadata": {},
   "outputs": [],
   "source": [
    "del IDs_with_fraud"
   ]
  },
  {
   "cell_type": "code",
   "execution_count": 15,
   "metadata": {},
   "outputs": [
    {
     "data": {
      "text/html": [
       "<div>\n",
       "<style scoped>\n",
       "    .dataframe tbody tr th:only-of-type {\n",
       "        vertical-align: middle;\n",
       "    }\n",
       "\n",
       "    .dataframe tbody tr th {\n",
       "        vertical-align: top;\n",
       "    }\n",
       "\n",
       "    .dataframe thead th {\n",
       "        text-align: right;\n",
       "    }\n",
       "</style>\n",
       "<table border=\"1\" class=\"dataframe\">\n",
       "  <thead>\n",
       "    <tr style=\"text-align: right;\">\n",
       "      <th></th>\n",
       "      <th>step</th>\n",
       "      <th>type</th>\n",
       "      <th>amount</th>\n",
       "      <th>customer</th>\n",
       "      <th>customer_old_balance</th>\n",
       "      <th>customer_new_balance</th>\n",
       "      <th>recipient</th>\n",
       "      <th>recipient_old_balance</th>\n",
       "      <th>recipient_new_balance</th>\n",
       "      <th>is_fraud</th>\n",
       "      <th>is_flagged_fraud</th>\n",
       "      <th>customer_with_history</th>\n",
       "      <th>recipient_with_history</th>\n",
       "      <th>customer_check_balance</th>\n",
       "      <th>recipient_check_balance</th>\n",
       "    </tr>\n",
       "  </thead>\n",
       "  <tbody>\n",
       "    <tr>\n",
       "      <td>0</td>\n",
       "      <td>1</td>\n",
       "      <td>PAYMENT</td>\n",
       "      <td>9839.64</td>\n",
       "      <td>C1231006815</td>\n",
       "      <td>170136.0</td>\n",
       "      <td>160296.36</td>\n",
       "      <td>M1979787155</td>\n",
       "      <td>0.0</td>\n",
       "      <td>0.0</td>\n",
       "      <td>0</td>\n",
       "      <td>0</td>\n",
       "      <td>NaN</td>\n",
       "      <td>NaN</td>\n",
       "      <td>0.0</td>\n",
       "      <td>-9839.64</td>\n",
       "    </tr>\n",
       "    <tr>\n",
       "      <td>1</td>\n",
       "      <td>1</td>\n",
       "      <td>PAYMENT</td>\n",
       "      <td>1864.28</td>\n",
       "      <td>C1666544295</td>\n",
       "      <td>21249.0</td>\n",
       "      <td>19384.72</td>\n",
       "      <td>M2044282225</td>\n",
       "      <td>0.0</td>\n",
       "      <td>0.0</td>\n",
       "      <td>0</td>\n",
       "      <td>0</td>\n",
       "      <td>NaN</td>\n",
       "      <td>NaN</td>\n",
       "      <td>0.0</td>\n",
       "      <td>-1864.28</td>\n",
       "    </tr>\n",
       "    <tr>\n",
       "      <td>2</td>\n",
       "      <td>1</td>\n",
       "      <td>TRANSFER</td>\n",
       "      <td>181.00</td>\n",
       "      <td>C1305486145</td>\n",
       "      <td>181.0</td>\n",
       "      <td>0.00</td>\n",
       "      <td>C553264065</td>\n",
       "      <td>0.0</td>\n",
       "      <td>0.0</td>\n",
       "      <td>1</td>\n",
       "      <td>0</td>\n",
       "      <td>NaN</td>\n",
       "      <td>NaN</td>\n",
       "      <td>0.0</td>\n",
       "      <td>-181.00</td>\n",
       "    </tr>\n",
       "    <tr>\n",
       "      <td>3</td>\n",
       "      <td>1</td>\n",
       "      <td>CASH_OUT</td>\n",
       "      <td>181.00</td>\n",
       "      <td>C840083671</td>\n",
       "      <td>181.0</td>\n",
       "      <td>0.00</td>\n",
       "      <td>C38997010</td>\n",
       "      <td>21182.0</td>\n",
       "      <td>0.0</td>\n",
       "      <td>1</td>\n",
       "      <td>0</td>\n",
       "      <td>NaN</td>\n",
       "      <td>NaN</td>\n",
       "      <td>0.0</td>\n",
       "      <td>-21363.00</td>\n",
       "    </tr>\n",
       "    <tr>\n",
       "      <td>4</td>\n",
       "      <td>1</td>\n",
       "      <td>PAYMENT</td>\n",
       "      <td>11668.14</td>\n",
       "      <td>C2048537720</td>\n",
       "      <td>41554.0</td>\n",
       "      <td>29885.86</td>\n",
       "      <td>M1230701703</td>\n",
       "      <td>0.0</td>\n",
       "      <td>0.0</td>\n",
       "      <td>0</td>\n",
       "      <td>0</td>\n",
       "      <td>NaN</td>\n",
       "      <td>NaN</td>\n",
       "      <td>0.0</td>\n",
       "      <td>-11668.14</td>\n",
       "    </tr>\n",
       "  </tbody>\n",
       "</table>\n",
       "</div>"
      ],
      "text/plain": [
       "   step      type    amount     customer  customer_old_balance  \\\n",
       "0  1     PAYMENT   9839.64   C1231006815  170136.0               \n",
       "1  1     PAYMENT   1864.28   C1666544295  21249.0                \n",
       "2  1     TRANSFER  181.00    C1305486145  181.0                  \n",
       "3  1     CASH_OUT  181.00    C840083671   181.0                  \n",
       "4  1     PAYMENT   11668.14  C2048537720  41554.0                \n",
       "\n",
       "   customer_new_balance    recipient  recipient_old_balance  \\\n",
       "0  160296.36             M1979787155  0.0                     \n",
       "1  19384.72              M2044282225  0.0                     \n",
       "2  0.00                  C553264065   0.0                     \n",
       "3  0.00                  C38997010    21182.0                 \n",
       "4  29885.86              M1230701703  0.0                     \n",
       "\n",
       "   recipient_new_balance  is_fraud  is_flagged_fraud  customer_with_history  \\\n",
       "0  0.0                    0         0                NaN                      \n",
       "1  0.0                    0         0                NaN                      \n",
       "2  0.0                    1         0                NaN                      \n",
       "3  0.0                    1         0                NaN                      \n",
       "4  0.0                    0         0                NaN                      \n",
       "\n",
       "   recipient_with_history  customer_check_balance  recipient_check_balance  \n",
       "0 NaN                      0.0                    -9839.64                  \n",
       "1 NaN                      0.0                    -1864.28                  \n",
       "2 NaN                      0.0                    -181.00                   \n",
       "3 NaN                      0.0                    -21363.00                 \n",
       "4 NaN                      0.0                    -11668.14                 "
      ]
     },
     "metadata": {},
     "output_type": "display_data"
    }
   ],
   "source": [
    "x = pickle.load(open(\"fraud.pkl\", \"rb\"))\n",
    "display(x.head())\n",
    "del x"
   ]
  },
  {
   "cell_type": "code",
   "execution_count": 10,
   "metadata": {},
   "outputs": [
    {
     "data": {
      "image/png": "[encoded data removed]",
      "text/plain": [
       "<Figure size 1080x720 with 1 Axes>"
      ]
     },
     "metadata": {},
     "output_type": "display_data"
    }
   ],
   "source": [
    "corr_table = df.corr()[[\"is_fraud\"]].sort_values(\"is_fraud\", ascending=False).iloc[1:,:].reset_index()\n",
    "plt.figure(figsize=(15,10))\n",
    "sns.barplot(x=\"is_fraud\", y=\"index\", data=corr_table)\n",
    "plt.xlabel(\"correlation\")\n",
    "plt.ylabel(\"features\")\n",
    "plt.title(\"Correlation Coefficients\")\n",
    "plt.show()"
   ]
  },
  {
   "cell_type": "code",
   "execution_count": 82,
   "metadata": {
    "colab": {},
    "colab_type": "code",
    "id": "G2fbTXjpSB73"
   },
   "outputs": [],
   "source": [
    "df_fraud = df.query(\"is_fraud == 1\")\n",
    "df_not_fraud = df.query(\"is_fraud == 0\")\n",
    "df_flagged = df.query(\"is_flagged_fraud == 1\")\n",
    "df_not_flagged = df.query(\"is_flagged_fraud == 0\")"
   ]
  },
  {
   "cell_type": "code",
   "execution_count": 83,
   "metadata": {
    "colab": {
     "base_uri": "https://localhost:8080/",
     "height": 34
    },
    "colab_type": "code",
    "id": "Vh4wGomlHQ8L",
    "outputId": "8d717b5d-5a6b-4fac-e1e1-7ea73eec8e8b"
   },
   "outputs": [
    {
     "name": "stdout",
     "output_type": "stream",
     "text": [
      "There are 8213 customers with fraudulent transactions\n"
     ]
    }
   ],
   "source": [
    "print(\"There are {} customers with fraudulent transactions\".format(\n",
    "    df_fraud.customer.nunique()))"
   ]
  },
  {
   "cell_type": "code",
   "execution_count": 84,
   "metadata": {
    "colab": {
     "base_uri": "https://localhost:8080/",
     "height": 34
    },
    "colab_type": "code",
    "id": "PNTK9HkGHj67",
    "outputId": "7db4d3d5-d3ee-4b18-fe7e-37c133509aa8"
   },
   "outputs": [
    {
     "name": "stdout",
     "output_type": "stream",
     "text": [
      "There are 8169 recipient under fraudulent transactions\n"
     ]
    }
   ],
   "source": [
    "print(\"There are {} recipient under fraudulent transactions\".format(\n",
    "    df_fraud.recipient.nunique()))"
   ]
  },
  {
   "cell_type": "code",
   "execution_count": 85,
   "metadata": {
    "colab": {
     "base_uri": "https://localhost:8080/",
     "height": 34
    },
    "colab_type": "code",
    "id": "TtVgAcPJ62bw",
    "outputId": "b886dbba-70cb-4eaa-a4b4-7bb26506ddb5",
    "scrolled": true
   },
   "outputs": [
    {
     "name": "stdout",
     "output_type": "stream",
     "text": [
      "There are 28 customers who have made both fraudulent and non-fraudulent transactions.\n"
     ]
    }
   ],
   "source": [
    "print(\n",
    "    \"There are {} customers who have made both fraudulent and non-fraudulent transactions.\"\n",
    "    .format(\n",
    "        len(df_fraud[[\"customer\"]].merge(df_not_fraud[[\"customer\"]],\n",
    "                                         how=\"inner\"))))"
   ]
  },
  {
   "cell_type": "code",
   "execution_count": 87,
   "metadata": {
    "colab": {
     "base_uri": "https://localhost:8080/",
     "height": 34
    },
    "colab_type": "code",
    "id": "TtVgAcPJ62bw",
    "outputId": "b886dbba-70cb-4eaa-a4b4-7bb26506ddb5",
    "scrolled": true
   },
   "outputs": [
    {
     "name": "stdout",
     "output_type": "stream",
     "text": [
      "There are 58186 IDs who have been recipient of both fraudulent and non-fraudulent transactions.\n"
     ]
    }
   ],
   "source": [
    "print(\n",
    "    \"There are {} IDs who have been recipient of both fraudulent and non-fraudulent transactions.\"\n",
    "    .format(\n",
    "        len(df_fraud[[\"recipient\"]].merge(df_not_fraud[[\"recipient\"]],\n",
    "                                         how=\"inner\"))))"
   ]
  },
  {
   "cell_type": "code",
   "execution_count": 88,
   "metadata": {
    "colab": {
     "base_uri": "https://localhost:8080/",
     "height": 34
    },
    "colab_type": "code",
    "id": "W9bVjUze5rtg",
    "outputId": "d61349c9-24a1-48cf-a3b8-2c0a0cf935ec"
   },
   "outputs": [
    {
     "name": "stdout",
     "output_type": "stream",
     "text": [
      "There are 0 customers who have both flagged and not flagged transactions .\n"
     ]
    }
   ],
   "source": [
    "print(\n",
    "    \"There are {} customers who have both flagged and not flagged transactions .\"\n",
    "    .format(\n",
    "        len(df_flagged[[\"customer\"]].merge(df_not_flagged[[\"customer\"]],\n",
    "                                           how=\"inner\"))))"
   ]
  },
  {
   "cell_type": "code",
   "execution_count": 90,
   "metadata": {
    "colab": {
     "base_uri": "https://localhost:8080/",
     "height": 34
    },
    "colab_type": "code",
    "id": "W9bVjUze5rtg",
    "outputId": "d61349c9-24a1-48cf-a3b8-2c0a0cf935ec"
   },
   "outputs": [
    {
     "name": "stdout",
     "output_type": "stream",
     "text": [
      "There are 8 recipients who have both flagged and not flagged transactions .\n"
     ]
    }
   ],
   "source": [
    "print(\n",
    "    \"There are {} recipients who have both flagged and not flagged transactions .\"\n",
    "    .format(\n",
    "        len(df_flagged[[\"recipient\"]].merge(df_not_flagged[[\"recipient\"]],\n",
    "                                           how=\"inner\"))))"
   ]
  },
  {
   "cell_type": "code",
   "execution_count": 91,
   "metadata": {
    "colab": {
     "base_uri": "https://localhost:8080/",
     "height": 34
    },
    "colab_type": "code",
    "id": "L_8AyCKsL-MA",
    "outputId": "02d9430b-92e8-4407-c1e0-889b205fb0b9"
   },
   "outputs": [
    {
     "name": "stdout",
     "output_type": "stream",
     "text": [
      "There are 0 IDs who have fraudulent transactions as both customer and recipient.\n"
     ]
    }
   ],
   "source": [
    "print(\n",
    "    \"There are {} IDs who have fraudulent transactions as both customer and recipient.\"\n",
    "    .format(\n",
    "        len(df_fraud[[\"customer\"]].merge(df_fraud[[\"recipient\"]],\n",
    "                                         how=\"inner\",\n",
    "                                         left_on=\"customer\",\n",
    "                                         right_on=\"recipient\"))))"
   ]
  },
  {
   "cell_type": "code",
   "execution_count": 92,
   "metadata": {
    "colab": {
     "base_uri": "https://localhost:8080/",
     "height": 34
    },
    "colab_type": "code",
    "id": "xhzLaaufLIE6",
    "outputId": "2d8f450e-e180-41c6-871b-4315260703f9"
   },
   "outputs": [
    {
     "name": "stdout",
     "output_type": "stream",
     "text": [
      "There are 0 IDs who have fraudulent transactions as customer but none as recipient.\n"
     ]
    }
   ],
   "source": [
    "print(\n",
    "    \"There are {} IDs who have fraudulent transactions as customer but none as recipient.\"\n",
    "    .format(\n",
    "        len(df_fraud[[\"customer\"]].merge(df_not_fraud[[\"recipient\"]],\n",
    "                                         how=\"inner\",\n",
    "                                         left_on=\"customer\",\n",
    "                                         right_on=\"recipient\"))))"
   ]
  },
  {
   "cell_type": "code",
   "execution_count": 93,
   "metadata": {},
   "outputs": [
    {
     "data": {
      "text/html": [
       "<div>\n",
       "<style scoped>\n",
       "    .dataframe tbody tr th:only-of-type {\n",
       "        vertical-align: middle;\n",
       "    }\n",
       "\n",
       "    .dataframe tbody tr th {\n",
       "        vertical-align: top;\n",
       "    }\n",
       "\n",
       "    .dataframe thead th {\n",
       "        text-align: right;\n",
       "    }\n",
       "</style>\n",
       "<table border=\"1\" class=\"dataframe\">\n",
       "  <thead>\n",
       "    <tr style=\"text-align: right;\">\n",
       "      <th></th>\n",
       "      <th>step</th>\n",
       "      <th>type</th>\n",
       "      <th>amount</th>\n",
       "      <th>customer</th>\n",
       "      <th>customer_old_balance</th>\n",
       "      <th>customer_new_balance</th>\n",
       "      <th>recipient</th>\n",
       "      <th>recipient_old_balance</th>\n",
       "      <th>recipient_new_balance</th>\n",
       "      <th>is_fraud</th>\n",
       "      <th>is_flagged_fraud</th>\n",
       "      <th>customer_with_prior</th>\n",
       "      <th>recipient_with_prior</th>\n",
       "    </tr>\n",
       "  </thead>\n",
       "  <tbody>\n",
       "    <tr>\n",
       "      <td>4858</td>\n",
       "      <td>5</td>\n",
       "      <td>CASH_OUT</td>\n",
       "      <td>120074.73</td>\n",
       "      <td>C1174000532</td>\n",
       "      <td>120074.73</td>\n",
       "      <td>0.0</td>\n",
       "      <td>C410033330</td>\n",
       "      <td>0.00</td>\n",
       "      <td>120074.73</td>\n",
       "      <td>1</td>\n",
       "      <td>0</td>\n",
       "      <td>0</td>\n",
       "      <td>1</td>\n",
       "    </tr>\n",
       "    <tr>\n",
       "      <td>1030736</td>\n",
       "      <td>88</td>\n",
       "      <td>CASH_OUT</td>\n",
       "      <td>4022408.76</td>\n",
       "      <td>C987446721</td>\n",
       "      <td>4022408.76</td>\n",
       "      <td>0.0</td>\n",
       "      <td>C1981613973</td>\n",
       "      <td>4542879.50</td>\n",
       "      <td>8565288.26</td>\n",
       "      <td>1</td>\n",
       "      <td>0</td>\n",
       "      <td>0</td>\n",
       "      <td>1</td>\n",
       "    </tr>\n",
       "    <tr>\n",
       "      <td>1048324</td>\n",
       "      <td>95</td>\n",
       "      <td>CASH_OUT</td>\n",
       "      <td>87999.25</td>\n",
       "      <td>C409531429</td>\n",
       "      <td>87999.25</td>\n",
       "      <td>0.0</td>\n",
       "      <td>C1827219533</td>\n",
       "      <td>0.00</td>\n",
       "      <td>87999.25</td>\n",
       "      <td>1</td>\n",
       "      <td>0</td>\n",
       "      <td>0</td>\n",
       "      <td>1</td>\n",
       "    </tr>\n",
       "    <tr>\n",
       "      <td>1059579</td>\n",
       "      <td>105</td>\n",
       "      <td>CASH_OUT</td>\n",
       "      <td>511379.90</td>\n",
       "      <td>C1440012977</td>\n",
       "      <td>511379.90</td>\n",
       "      <td>0.0</td>\n",
       "      <td>C644163395</td>\n",
       "      <td>3439249.70</td>\n",
       "      <td>3950629.60</td>\n",
       "      <td>1</td>\n",
       "      <td>0</td>\n",
       "      <td>0</td>\n",
       "      <td>1</td>\n",
       "    </tr>\n",
       "    <tr>\n",
       "      <td>3208638</td>\n",
       "      <td>249</td>\n",
       "      <td>CASH_OUT</td>\n",
       "      <td>369448.20</td>\n",
       "      <td>C2020495090</td>\n",
       "      <td>369448.20</td>\n",
       "      <td>0.0</td>\n",
       "      <td>C650699445</td>\n",
       "      <td>0.00</td>\n",
       "      <td>369448.20</td>\n",
       "      <td>1</td>\n",
       "      <td>0</td>\n",
       "      <td>0</td>\n",
       "      <td>1</td>\n",
       "    </tr>\n",
       "    <tr>\n",
       "      <td>6008662</td>\n",
       "      <td>436</td>\n",
       "      <td>CASH_OUT</td>\n",
       "      <td>4135944.29</td>\n",
       "      <td>C1649836304</td>\n",
       "      <td>4135944.29</td>\n",
       "      <td>0.0</td>\n",
       "      <td>C14138104</td>\n",
       "      <td>0.00</td>\n",
       "      <td>4135944.29</td>\n",
       "      <td>1</td>\n",
       "      <td>0</td>\n",
       "      <td>0</td>\n",
       "      <td>1</td>\n",
       "    </tr>\n",
       "    <tr>\n",
       "      <td>6168708</td>\n",
       "      <td>560</td>\n",
       "      <td>CASH_OUT</td>\n",
       "      <td>143275.81</td>\n",
       "      <td>C1571623448</td>\n",
       "      <td>143275.81</td>\n",
       "      <td>0.0</td>\n",
       "      <td>C1655359478</td>\n",
       "      <td>6346481.09</td>\n",
       "      <td>6489756.90</td>\n",
       "      <td>1</td>\n",
       "      <td>0</td>\n",
       "      <td>0</td>\n",
       "      <td>1</td>\n",
       "    </tr>\n",
       "    <tr>\n",
       "      <td>6255874</td>\n",
       "      <td>597</td>\n",
       "      <td>CASH_OUT</td>\n",
       "      <td>517183.38</td>\n",
       "      <td>C1850286862</td>\n",
       "      <td>517183.38</td>\n",
       "      <td>0.0</td>\n",
       "      <td>C1837027614</td>\n",
       "      <td>0.00</td>\n",
       "      <td>517183.38</td>\n",
       "      <td>1</td>\n",
       "      <td>0</td>\n",
       "      <td>0</td>\n",
       "      <td>1</td>\n",
       "    </tr>\n",
       "    <tr>\n",
       "      <td>6272188</td>\n",
       "      <td>621</td>\n",
       "      <td>CASH_OUT</td>\n",
       "      <td>425861.93</td>\n",
       "      <td>C2103073329</td>\n",
       "      <td>425861.93</td>\n",
       "      <td>0.0</td>\n",
       "      <td>C686334805</td>\n",
       "      <td>203280.85</td>\n",
       "      <td>629142.78</td>\n",
       "      <td>1</td>\n",
       "      <td>0</td>\n",
       "      <td>0</td>\n",
       "      <td>1</td>\n",
       "    </tr>\n",
       "    <tr>\n",
       "      <td>6281786</td>\n",
       "      <td>650</td>\n",
       "      <td>CASH_OUT</td>\n",
       "      <td>50523.78</td>\n",
       "      <td>C1711085884</td>\n",
       "      <td>50523.78</td>\n",
       "      <td>0.0</td>\n",
       "      <td>C1148781766</td>\n",
       "      <td>0.00</td>\n",
       "      <td>50523.78</td>\n",
       "      <td>1</td>\n",
       "      <td>0</td>\n",
       "      <td>0</td>\n",
       "      <td>1</td>\n",
       "    </tr>\n",
       "    <tr>\n",
       "      <td>6362339</td>\n",
       "      <td>720</td>\n",
       "      <td>CASH_OUT</td>\n",
       "      <td>79039.81</td>\n",
       "      <td>C838045354</td>\n",
       "      <td>79039.81</td>\n",
       "      <td>0.0</td>\n",
       "      <td>C1980653895</td>\n",
       "      <td>11270532.70</td>\n",
       "      <td>11349572.51</td>\n",
       "      <td>1</td>\n",
       "      <td>0</td>\n",
       "      <td>0</td>\n",
       "      <td>1</td>\n",
       "    </tr>\n",
       "    <tr>\n",
       "      <td>6362537</td>\n",
       "      <td>736</td>\n",
       "      <td>CASH_OUT</td>\n",
       "      <td>172915.56</td>\n",
       "      <td>C962323728</td>\n",
       "      <td>172915.56</td>\n",
       "      <td>0.0</td>\n",
       "      <td>C1193568854</td>\n",
       "      <td>7674508.70</td>\n",
       "      <td>7847424.27</td>\n",
       "      <td>1</td>\n",
       "      <td>0</td>\n",
       "      <td>0</td>\n",
       "      <td>1</td>\n",
       "    </tr>\n",
       "  </tbody>\n",
       "</table>\n",
       "</div>"
      ],
      "text/plain": [
       "         step      type      amount     customer  customer_old_balance  \\\n",
       "4858     5     CASH_OUT  120074.73   C1174000532  120074.73              \n",
       "1030736  88    CASH_OUT  4022408.76  C987446721   4022408.76             \n",
       "1048324  95    CASH_OUT  87999.25    C409531429   87999.25               \n",
       "1059579  105   CASH_OUT  511379.90   C1440012977  511379.90              \n",
       "3208638  249   CASH_OUT  369448.20   C2020495090  369448.20              \n",
       "6008662  436   CASH_OUT  4135944.29  C1649836304  4135944.29             \n",
       "6168708  560   CASH_OUT  143275.81   C1571623448  143275.81              \n",
       "6255874  597   CASH_OUT  517183.38   C1850286862  517183.38              \n",
       "6272188  621   CASH_OUT  425861.93   C2103073329  425861.93              \n",
       "6281786  650   CASH_OUT  50523.78    C1711085884  50523.78               \n",
       "6362339  720   CASH_OUT  79039.81    C838045354   79039.81               \n",
       "6362537  736   CASH_OUT  172915.56   C962323728   172915.56              \n",
       "\n",
       "         customer_new_balance    recipient  recipient_old_balance  \\\n",
       "4858     0.0                   C410033330   0.00                    \n",
       "1030736  0.0                   C1981613973  4542879.50              \n",
       "1048324  0.0                   C1827219533  0.00                    \n",
       "1059579  0.0                   C644163395   3439249.70              \n",
       "3208638  0.0                   C650699445   0.00                    \n",
       "6008662  0.0                   C14138104    0.00                    \n",
       "6168708  0.0                   C1655359478  6346481.09              \n",
       "6255874  0.0                   C1837027614  0.00                    \n",
       "6272188  0.0                   C686334805   203280.85               \n",
       "6281786  0.0                   C1148781766  0.00                    \n",
       "6362339  0.0                   C1980653895  11270532.70             \n",
       "6362537  0.0                   C1193568854  7674508.70              \n",
       "\n",
       "         recipient_new_balance  is_fraud  is_flagged_fraud  \\\n",
       "4858     120074.73              1         0                  \n",
       "1030736  8565288.26             1         0                  \n",
       "1048324  87999.25               1         0                  \n",
       "1059579  3950629.60             1         0                  \n",
       "3208638  369448.20              1         0                  \n",
       "6008662  4135944.29             1         0                  \n",
       "6168708  6489756.90             1         0                  \n",
       "6255874  517183.38              1         0                  \n",
       "6272188  629142.78              1         0                  \n",
       "6281786  50523.78               1         0                  \n",
       "6362339  11349572.51            1         0                  \n",
       "6362537  7847424.27             1         0                  \n",
       "\n",
       "         customer_with_prior  recipient_with_prior  \n",
       "4858     0                    1                     \n",
       "1030736  0                    1                     \n",
       "1048324  0                    1                     \n",
       "1059579  0                    1                     \n",
       "3208638  0                    1                     \n",
       "6008662  0                    1                     \n",
       "6168708  0                    1                     \n",
       "6255874  0                    1                     \n",
       "6272188  0                    1                     \n",
       "6281786  0                    1                     \n",
       "6362339  0                    1                     \n",
       "6362537  0                    1                     "
      ]
     },
     "execution_count": 93,
     "metadata": {},
     "output_type": "execute_result"
    }
   ],
   "source": [
    "df.query(\"is_flagged_fraud==0 & (customer_with_history==1 | recipient_with_history==1) & is_fraud==1\")"
   ]
  },
  {
   "cell_type": "code",
   "execution_count": null,
   "metadata": {},
   "outputs": [],
   "source": []
  }
 ],
 "metadata": {
  "accelerator": "GPU",
  "colab": {
   "collapsed_sections": [],
   "name": "financial_fraud.ipynb",
   "provenance": []
  },
  "kernelspec": {
   "display_name": "Python [conda env:learn-env] *",
   "language": "python",
   "name": "conda-env-learn-env-py"
  },
  "language_info": {
   "codemirror_mode": {
    "name": "ipython",
    "version": 3
   },
   "file_extension": ".py",
   "mimetype": "text/x-python",
   "name": "python",
   "nbconvert_exporter": "python",
   "pygments_lexer": "ipython3",
   "version": "3.6.9"
  },
  "toc": {
   "base_numbering": 1,
   "nav_menu": {},
   "number_sections": false,
   "sideBar": true,
   "skip_h1_title": false,
   "title_cell": "Table of Contents",
   "title_sidebar": "Contents",
   "toc_cell": false,
   "toc_position": {
    "height": "calc(100% - 180px)",
    "left": "10px",
    "top": "150px",
    "width": "209px"
   },
   "toc_section_display": true,
   "toc_window_display": true
  },
  "varInspector": {
   "cols": {
    "lenName": 16,
    "lenType": 16,
    "lenVar": 40
   },
   "kernels_config": {
    "python": {
     "delete_cmd_postfix": "",
     "delete_cmd_prefix": "del ",
     "library": "var_list.py",
     "varRefreshCmd": "print(var_dic_list())"
    },
    "r": {
     "delete_cmd_postfix": ") ",
     "delete_cmd_prefix": "rm(",
     "library": "var_list.r",
     "varRefreshCmd": "cat(var_dic_list()) "
    }
   },
   "position": {
    "height": "389px",
    "left": "1237px",
    "right": "20px",
    "top": "119px",
    "width": "336px"
   },
   "types_to_exclude": [
    "module",
    "function",
    "builtin_function_or_method",
    "instance",
    "_Feature"
   ],
   "window_display": false
  }
 },
 "nbformat": 4,
 "nbformat_minor": 1
}
